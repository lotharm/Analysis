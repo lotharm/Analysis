{
 "cells": [
  {
   "cell_type": "code",
   "execution_count": 64,
   "metadata": {},
   "outputs": [],
   "source": [
    "\"\"\"\n",
    "Created on Wed Jul  7 17:46:12 2021\n",
    "\n",
    "@author: Schroeder\n",
    "\"\"\"\n",
    "\n",
    "from turtle import color\n",
    "import matplotlib\n",
    "from matplotlib import colors\n",
    "\n",
    "from IPython.display import display, HTML\n",
    "\n",
    "from pathlib import Path\n",
    "import csv\n",
    "\n",
    "from datetime import datetime\n",
    "from datetime import date\n",
    "import calendar\n",
    "\n",
    "import os\n",
    "from os import listdir\n",
    "from os.path import isfile, join\n",
    "\n",
    "import sys, getopt\n",
    "\n",
    "# Imports\n",
    "#from pandas_datareader import data as pdr\n",
    "#from yahoo_fin import stock_info as si\n",
    "\n",
    "import numpy as np\n",
    "import numpy as np\n",
    "from sklearn import linear_model\n",
    "import scipy.stats\n",
    "\n",
    "\n",
    "import numpy as np\n",
    "from sklearn import linear_model\n",
    "\n",
    "import pandas as pd\n",
    "\n",
    "import plotly.io as pio\n",
    "import plotly.express as px\n",
    "from plotly.figure_factory import create_candlestick\n",
    "import plotly.graph_objects as go\n",
    "from plotly.offline import init_notebook_mode, iplot\n",
    "\n",
    "from pandas import ExcelWriter\n",
    "\n",
    "# from sympy import maximum\n",
    "\n",
    "import RSI_strat_SETUP\n",
    "\n",
    "#init_notebook_mode()"
   ]
  },
  {
   "cell_type": "code",
   "execution_count": 65,
   "metadata": {},
   "outputs": [],
   "source": [
    "def main(fad, stock):\n",
    "\n",
    "\n",
    "    #onlyfiles = [f for f in listdir(mypath) if (isfile(join(mypath, f)) and not f.startswith(\"_\")) ]\n",
    "\n",
    "    b=[]\n",
    "    c=[]\n",
    "    figs=[]\n",
    "    counter  = 0\n",
    "\n",
    "    keys = [\"Sector\",\"Industry\"]\n",
    "    a=[]    \n",
    "    b=[]\n",
    "    \n",
    "    for key in keys:\n",
    "        'Baue Dataframe aus der exisitierendnen Res Datei. Relevnt sind die Sektoren und die 5d,10,20d,... returns'\n",
    "        df = pd.read_csv(fad +\"\\\\\"+stock,sep=\";\",decimal=',', index_col=0)\n",
    "        \n",
    "        ###### Remove all Rows with bullshit Entrys such as NaN, etc. \n",
    "        df = df.dropna()\n",
    "        discard = [\"sector\",\"ETF\",\"Industry\",\"nan\"]\n",
    "        df = df[~df.Sector.str.contains('|'.join(discard))]\n",
    "        df = df[~df.Industry.str.contains('|'.join(discard))]\n",
    "        \n",
    "        csa = [key]\n",
    "        csa = csa +  df.columns[:5].tolist()\n",
    "        sectorsOrIndustry_analysis = pd.DataFrame(columns=csa)\n",
    "\n",
    "        ## liste aller Sektor bzw. Industry Bezeichner\n",
    "        list_of_sectorsOrIndustry = df[key].unique().tolist()\n",
    "        sectorsOrIndustry_analysis[key]=df[key].unique().tolist()\n",
    "\n",
    "\n",
    "        print(key,\": \",sectorsOrIndustry_analysis[key])\n",
    "\n",
    "        # try:\n",
    "        #     list_of_sectorsOrIndustry=list_of_sectorsOrIndustry.remove(\"nan\")\n",
    "        #     list_of_sectorsOrIndustry=list_of_sectorsOrIndustry.remove(\"sector\")\n",
    "        #     list_of_sectorsOrIndustry=list_of_sectorsOrIndustry.remove(\"ETF\")\n",
    "        #     list_of_sectorsOrIndustry=list_of_sectorsOrIndustry.remove(\"Industry\")\n",
    "\n",
    "        #     sectorsOrIndustry_analysis=sectorsOrIndustry_analysis.remove(\"nan\")\n",
    "        #     sectorsOrIndustry_analysis=sectorsOrIndustry_analysis.remove(\"sector\")\n",
    "        #     sectorsOrIndustry_analysis=sectorsOrIndustry_analysis.remove(\"ETF\")\n",
    "        #     sectorsOrIndustry_analysis=list_of_sectorsOrIndustry.remove(\"Industry\")\n",
    "        # except:\n",
    "        #     print(\"-->\")\n",
    "            \n",
    "\n",
    "        # Wenn nach Industry aufgelöst wird, dann fuege den Sektor in den TAble dazu \n",
    "        if key == \"Industry\":\n",
    "            for i in sectorsOrIndustry_analysis[key]:\n",
    "                try:\n",
    "                    a=df[\"Sector\"][df[\"Industry\"]==i]\n",
    "                    b.append(a[0])\n",
    "                except:\n",
    "                    print(\"errours:\",key,\", \",i)\n",
    "\n",
    "            print(\"b: \",b)    \n",
    "            sectorsOrIndustry_analysis[\"Sector\"]=b\n",
    "        ################################\n",
    "\n",
    "        for dt in df.columns[:5].tolist():\n",
    "            yields=[]\n",
    "            for sec in sectorsOrIndustry_analysis[key]:\n",
    "                yields.append(df.loc[df[key]==sec, dt].mean())\n",
    "            #print(yields)\n",
    "            sectorsOrIndustry_analysis[dt]=yields\n",
    "\n",
    "        sectorsOrIndustry_analysis=sectorsOrIndustry_analysis.sort_values(by=\"10d\",ascending=False)\n",
    "        sectorsOrIndustry_analysis.style.background_gradient()        \n",
    "\n",
    "        f = open(fad+key+\"_s.html\",'w'); f.write(sectorsOrIndustry_analysis.style.set_precision(2).set_caption('Spaltenweise Color').background_gradient(axis=0,cmap=\"Spectral\").render()); f.close()\n",
    "        f = open(fad+key+\"_z.html\",'w'); f.write(sectorsOrIndustry_analysis.style.set_precision(2).set_caption('Zeilenweise Color').background_gradient(axis=1,cmap=\"Spectral\").render()); f.close()    \n",
    "        \n",
    "    "
   ]
  },
  {
   "cell_type": "code",
   "execution_count": 66,
   "metadata": {},
   "outputs": [],
   "source": [
    "currentdir = os.path.abspath('')\n",
    "parentdir = os.path.realpath(os.path.join(currentdir, '..'))\n",
    "sys.path.insert(0, parentdir) \n",
    "#############################################################\n",
    "\n",
    "pfad = RSI_strat_SETUP.pfad\n",
    "\n",
    "from MomentumScreening import my_setup\n",
    "###\n",
    "### The whole /ETFS/ Tree has to be located on ame level as repository !\n",
    "pfad = os.path.realpath(os.path.join(parentdir, 'ETFS'))\n"
   ]
  },
  {
   "cell_type": "markdown",
   "metadata": {},
   "source": [
    "### --------------------------------------------------------------------------\n",
    "### Welcher Sektor oder index soll analysieert werden ?"
   ]
  },
  {
   "cell_type": "code",
   "execution_count": 67,
   "metadata": {},
   "outputs": [],
   "source": [
    "who = \"Deutschland500\""
   ]
  },
  {
   "cell_type": "code",
   "execution_count": 68,
   "metadata": {},
   "outputs": [],
   "source": [
    "\n",
    "who = \"RES_\" + who \n",
    "pfad = os.path.realpath(os.path.join(pfad, who))\n",
    "pfad = os.path.realpath(os.path.join(pfad, 'Res'))\n"
   ]
  },
  {
   "cell_type": "code",
   "execution_count": 69,
   "metadata": {},
   "outputs": [
    {
     "name": "stdout",
     "output_type": "stream",
     "text": [
      "C:\\Users\\Michael\\Trading\\ETFS\\RES_Deutschland500\\Res\n",
      "C:\\Users\\Michael\\Trading\\ETFS\\RES_Deutschland500\\Res\\Deut2022-09-03__2022-05-12.csv\n"
     ]
    }
   ],
   "source": [
    "\n",
    "file  = \"Deut2022-09-03__2022-05-12\" + \".csv\"\n",
    "\n",
    "\n",
    "print(pfad)\n",
    "print(pfad + \"\\\\\" + file)"
   ]
  },
  {
   "cell_type": "markdown",
   "metadata": {},
   "source": [
    "### ---------------------------------------------------------------------"
   ]
  },
  {
   "cell_type": "markdown",
   "metadata": {},
   "source": [
    " "
   ]
  },
  {
   "cell_type": "code",
   "execution_count": 70,
   "metadata": {
    "scrolled": false
   },
   "outputs": [
    {
     "name": "stdout",
     "output_type": "stream",
     "text": [
      "Sector :  0                 Utilities\n",
      "1           Basic Materials\n",
      "2               Real Estate\n",
      "3         Consumer Cyclical\n",
      "4                    Energy\n",
      "5                Technology\n",
      "6               Industrials\n",
      "7                Healthcare\n",
      "8    Communication Services\n",
      "9        Consumer Defensive\n",
      "Name: Sector, dtype: object\n",
      "Industry :  0                       Utilities—Renewable\n",
      "1                       Specialty Chemicals\n",
      "2                      Real Estate Services\n",
      "3                              Luxury Goods\n",
      "4                        Oil & Gas Drilling\n",
      "                      ...                  \n",
      "81                      Agricultural Inputs\n",
      "82               Drug Manufacturers—General\n",
      "83                                 Gambling\n",
      "84                  Home Improvement Retail\n",
      "85    Utilities—Independent Power Producers\n",
      "Name: Industry, Length: 86, dtype: object\n",
      "b:  ['Utilities', 'Basic Materials', 'Real Estate', 'Consumer Cyclical', 'Energy', 'Technology', 'Technology', 'Industrials', 'Technology', 'Healthcare', 'Communication Services', 'Consumer Cyclical', 'Consumer Cyclical', 'Real Estate', 'Healthcare', 'Technology', 'Consumer Cyclical', 'Basic Materials', 'Technology', 'Consumer Cyclical', 'Consumer Defensive', 'Industrials', 'Industrials', 'Industrials', 'Healthcare', 'Industrials', 'Technology', 'Industrials', 'Healthcare', 'Consumer Cyclical', 'Technology', 'Utilities', 'Energy', 'Industrials', 'Consumer Cyclical', 'Basic Materials', 'Industrials', 'Consumer Cyclical', 'Consumer Defensive', 'Industrials', 'Basic Materials', 'Consumer Defensive', 'Healthcare', 'Consumer Cyclical', 'Industrials', 'Communication Services', 'Industrials', 'Industrials', 'Industrials', 'Technology', 'Technology', 'Consumer Cyclical', 'Healthcare', 'Basic Materials', 'Healthcare', 'Consumer Cyclical', 'Healthcare', 'Consumer Defensive', 'Communication Services', 'Industrials', 'Industrials', 'Communication Services', 'Communication Services', 'Technology', 'Industrials', 'Consumer Defensive', 'Technology', 'Industrials', 'Real Estate', 'Technology', 'Basic Materials', 'Energy', 'Consumer Cyclical', 'Industrials', 'Consumer Cyclical', 'Consumer Cyclical', 'Communication Services', 'Industrials', 'Consumer Cyclical', 'Industrials', 'Basic Materials', 'Basic Materials', 'Healthcare', 'Consumer Cyclical', 'Consumer Cyclical', 'Utilities']\n"
     ]
    }
   ],
   "source": [
    "#main(stock,          back_gap, fwd_gap, threshold rendite backward, threshold renidte forward,comment )\n",
    "\n",
    "main(pfad, file)"
   ]
  },
  {
   "cell_type": "code",
   "execution_count": null,
   "metadata": {},
   "outputs": [],
   "source": []
  }
 ],
 "metadata": {
  "kernelspec": {
   "display_name": "Python 3.8.8 ('base')",
   "language": "python",
   "name": "python3"
  },
  "language_info": {
   "codemirror_mode": {
    "name": "ipython",
    "version": 3
   },
   "file_extension": ".py",
   "mimetype": "text/x-python",
   "name": "python",
   "nbconvert_exporter": "python",
   "pygments_lexer": "ipython3",
   "version": "3.8.8"
  },
  "vscode": {
   "interpreter": {
    "hash": "ad2bdc8ecc057115af97d19610ffacc2b4e99fae6737bb82f5d7fb13d2f2c186"
   }
  }
 },
 "nbformat": 4,
 "nbformat_minor": 2
}
