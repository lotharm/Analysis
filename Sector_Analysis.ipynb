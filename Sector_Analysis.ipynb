{
 "cells": [
  {
   "cell_type": "code",
   "execution_count": 1,
   "metadata": {},
   "outputs": [
    {
     "name": "stdout",
     "output_type": "stream",
     "text": [
      "hier:  C:\\Users\\Schroeder\\OneDrive\\Trading\\ETFS\\Analyse_data\n"
     ]
    }
   ],
   "source": [
    "\"\"\"\n",
    "Created on Wed Jul  7 17:46:12 2021\n",
    "\n",
    "@author: Schroeder\n",
    "\"\"\"\n",
    "\n",
    "from turtle import color\n",
    "import matplotlib\n",
    "from matplotlib import colors\n",
    "\n",
    "from IPython.display import display, HTML\n",
    "\n",
    "from pathlib import Path\n",
    "import csv\n",
    "\n",
    "from datetime import datetime\n",
    "from datetime import date\n",
    "import calendar\n",
    "\n",
    "import os\n",
    "from os import listdir\n",
    "from os.path import isfile, join\n",
    "\n",
    "import sys, getopt\n",
    "\n",
    "# Imports\n",
    "#from pandas_datareader import data as pdr\n",
    "#from yahoo_fin import stock_info as si\n",
    "\n",
    "import numpy as np\n",
    "import numpy as np\n",
    "from sklearn import linear_model\n",
    "import scipy.stats\n",
    "\n",
    "\n",
    "import numpy as np\n",
    "from sklearn import linear_model\n",
    "\n",
    "import pandas as pd\n",
    "\n",
    "import plotly.io as pio\n",
    "import plotly.express as px\n",
    "from plotly.figure_factory import create_candlestick\n",
    "import plotly.graph_objects as go\n",
    "from plotly.offline import init_notebook_mode, iplot\n",
    "\n",
    "from pandas import ExcelWriter\n",
    "\n",
    "from sympy import maximum\n",
    "\n",
    "import RSI_strat_SETUP\n",
    "\n",
    "#init_notebook_mode()"
   ]
  },
  {
   "cell_type": "code",
   "execution_count": 2,
   "metadata": {},
   "outputs": [],
   "source": [
    "def main(fad, stock):\n",
    "\n",
    "\n",
    "    #onlyfiles = [f for f in listdir(mypath) if (isfile(join(mypath, f)) and not f.startswith(\"_\")) ]\n",
    "\n",
    "    b=[]\n",
    "    c=[]\n",
    "    figs=[]\n",
    "    counter  = 0\n",
    "\n",
    "    keys = [\"Sector\",\"Industry\"]\n",
    "    a=[]    \n",
    "    b=[]\n",
    "    \n",
    "    for key in keys:\n",
    "        'Baue Dataframe aus der exisitierendnen Res Datei. Relevnt sind die Sektoren und die 5d,10,20d,... returns'\n",
    "        df = pd.read_csv(fad + stock,sep=\";\",decimal=',', index_col=0)\n",
    "        csa = [key]\n",
    "        csa = csa +  df.columns[:5].tolist()\n",
    "        sector_analysis = pd.DataFrame(columns=csa)\n",
    "\n",
    "        list_of_sectors = df[key].unique().tolist()\n",
    "        sector_analysis[key]=df[key].unique().tolist()\n",
    "\n",
    "        # Wenn nach Industry aufgelöst wird, dann fuerg den Sektor in den TAble dazu \n",
    "        if key == \"Industry\":\n",
    "            print(sector_analysis[\"Industry\"])\n",
    "            for i in sector_analysis[\"Industry\"]:\n",
    "                a=df[\"Sector\"][df[\"Industry\"]==i]\n",
    "                b.append(a[0])    \n",
    "            print(b)    \n",
    "            sector_analysis[\"Sector\"]=b\n",
    "        ################################\n",
    "\n",
    "        for dt in df.columns[:5].tolist():\n",
    "            yields=[]\n",
    "            for sec in sector_analysis[key]:\n",
    "                yields.append(df.loc[df[key]==sec, dt].mean())\n",
    "            #print(yields)\n",
    "            sector_analysis[dt]=yields\n",
    "\n",
    "        sector_analysis=sector_analysis.sort_values(by=\"10d\",ascending=False)\n",
    "        sector_analysis.style.background_gradient()        \n",
    "\n",
    "        f = open(fad+key+\"_s.html\",'w'); f.write(sector_analysis.style.set_precision(2).set_caption('Spaltenweise Color').background_gradient(axis=0,cmap=\"Spectral\").render()); f.close()\n",
    "        f = open(fad+key+\"_z.html\",'w'); f.write(sector_analysis.style.set_precision(2).set_caption('Zeilenweise Color').background_gradient(axis=1,cmap=\"Spectral\").render()); f.close()    \n",
    "        \n",
    "    "
   ]
  },
  {
   "cell_type": "markdown",
   "metadata": {},
   "source": [
    "### Gebe Pfad an, unter dem das Datenfile zu finden ist.  \n",
    "#### Bsp: C:/Users/Schroeder/OneDrive/Trading/ETFS/RES_Aristokraten/Res/"
   ]
  },
  {
   "cell_type": "code",
   "execution_count": 3,
   "metadata": {},
   "outputs": [],
   "source": [
    "pfad = \"C:/Users/Schroeder/OneDrive/Trading/ETFS/RES_\""
   ]
  },
  {
   "cell_type": "markdown",
   "metadata": {},
   "source": [
    "### --------------------------------------------------------------------------\n",
    "### Welcher Sektor oder index soll analysieert werden ?"
   ]
  },
  {
   "cell_type": "code",
   "execution_count": 4,
   "metadata": {},
   "outputs": [],
   "source": [
    "who = \"SP500\"\n",
    "file  = \"SP502022-07-19__2022-03-27\" + \".csv\""
   ]
  },
  {
   "cell_type": "markdown",
   "metadata": {},
   "source": [
    "### ---------------------------------------------------------------------"
   ]
  },
  {
   "cell_type": "code",
   "execution_count": 5,
   "metadata": {},
   "outputs": [
    {
     "name": "stdout",
     "output_type": "stream",
     "text": [
      "C:/Users/Schroeder/OneDrive/Trading/ETFS/RES_SP500/Res/\n",
      "C:/Users/Schroeder/OneDrive/Trading/ETFS/RES_SP500/Res/SP502022-07-19__2022-03-27.csv\n"
     ]
    }
   ],
   "source": [
    "pfad = pfad+who+\"/Res/\"\n",
    "print(pfad)\n",
    "print(pfad + file)"
   ]
  },
  {
   "cell_type": "markdown",
   "metadata": {},
   "source": [
    " "
   ]
  },
  {
   "cell_type": "code",
   "execution_count": 6,
   "metadata": {
    "scrolled": false
   },
   "outputs": [
    {
     "name": "stdout",
     "output_type": "stream",
     "text": [
      "0                           Personal Services\n",
      "1                     Beverages—Non-Alcoholic\n",
      "2                              Packaged Foods\n",
      "3                  Drug Manufacturers—General\n",
      "4      Drug Manufacturers—Specialty & Generic\n",
      "                        ...                  \n",
      "111                 Rental & Leasing Services\n",
      "112                   Medical Care Facilities\n",
      "113                                      Gold\n",
      "114                                     Steel\n",
      "115                                    Copper\n",
      "Name: Industry, Length: 116, dtype: object\n",
      "['Consumer Cyclical', 'Consumer Defensive', 'Consumer Defensive', 'Healthcare', 'Healthcare', 'Communication Services', 'Technology', 'Healthcare', 'Healthcare', 'Healthcare', 'Industrials', 'Consumer Cyclical', 'Consumer Defensive', 'Consumer Cyclical', 'Industrials', 'Consumer Cyclical', 'Financial Services', 'Real Estate', 'Industrials', 'Utilities', 'Consumer Defensive', 'Technology', 'Financial Services', 'Technology', 'Real Estate', 'Consumer Cyclical', 'Consumer Defensive', 'Healthcare', 'Consumer Defensive', 'Real Estate', 'Energy', 'Consumer Cyclical', 'Communication Services', 'Consumer Defensive', 'Consumer Cyclical', 'Industrials', 'Consumer Cyclical', 'Industrials', 'Financial Services', 'sector', 'Consumer Defensive', 'Basic Materials', 'Industrials', 'Real Estate', 'Healthcare', 'Financial Services', 'Consumer Defensive', 'Energy', 'Financial Services', 'Energy', 'Industrials', 'Consumer Cyclical', 'Consumer Cyclical', 'Technology', 'Consumer Cyclical', 'Industrials', 'Technology', 'Utilities', 'Technology', 'Consumer Cyclical', 'Industrials', 'Industrials', 'Technology', 'Energy', 'Financial Services', 'Consumer Cyclical', 'Consumer Cyclical', 'Basic Materials', 'Technology', 'Financial Services', 'Industrials', 'Communication Services', 'Technology', 'Financial Services', 'Financial Services', 'Financial Services', 'Energy', 'Utilities', 'Industrials', 'Utilities', 'Healthcare', 'Industrials', 'Industrials', 'Industrials', 'Utilities', 'Financial Services', 'Industrials', 'Energy', 'Communication Services', 'Real Estate', 'Financial Services', 'Consumer Defensive', 'Consumer Cyclical', 'Basic Materials', 'Industrials', 'Consumer Cyclical', 'Industrials', 'Healthcare', 'Consumer Cyclical', 'Real Estate', 'Communication Services', 'Real Estate', 'Technology', 'Consumer Cyclical', 'Consumer Cyclical', 'Real Estate', 'Consumer Cyclical', 'Basic Materials', 'Consumer Cyclical', 'Consumer Defensive', 'Communication Services', 'Industrials', 'Healthcare', 'Basic Materials', 'Basic Materials', 'Basic Materials']\n"
     ]
    }
   ],
   "source": [
    "#main(stock,          back_gap, fwd_gap, threshold rendite backward, threshold renidte forward,comment )\n",
    "\n",
    "main(pfad, file)"
   ]
  },
  {
   "cell_type": "code",
   "execution_count": null,
   "metadata": {},
   "outputs": [],
   "source": []
  }
 ],
 "metadata": {
  "interpreter": {
   "hash": "a76b59f2299f1452bd3e67a61cdb56fcda763d37b118fdd331e2efb591eaa24a"
  },
  "kernelspec": {
   "display_name": "Python 3.8.8 32-bit ('base': conda)",
   "name": "python3"
  },
  "language_info": {
   "codemirror_mode": {
    "name": "ipython",
    "version": 3
   },
   "file_extension": ".py",
   "mimetype": "text/x-python",
   "name": "python",
   "nbconvert_exporter": "python",
   "pygments_lexer": "ipython3",
   "version": "3.8.8"
  }
 },
 "nbformat": 4,
 "nbformat_minor": 2
}
