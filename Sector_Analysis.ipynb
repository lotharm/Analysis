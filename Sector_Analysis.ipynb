{
 "cells": [
  {
   "cell_type": "code",
   "execution_count": null,
   "metadata": {},
   "outputs": [],
   "source": [
    "\"\"\"\n",
    "Created on Wed Jul  7 17:46:12 2021\n",
    "\n",
    "@author: Schroeder\n",
    "\"\"\"\n",
    "\n",
    "from turtle import color\n",
    "import matplotlib\n",
    "from matplotlib import colors\n",
    "\n",
    "from IPython.display import display, HTML\n",
    "\n",
    "from pathlib import Path\n",
    "import csv\n",
    "\n",
    "from datetime import datetime\n",
    "from datetime import date\n",
    "import calendar\n",
    "\n",
    "import os\n",
    "from os import listdir\n",
    "from os.path import isfile, join\n",
    "\n",
    "import sys, getopt\n",
    "\n",
    "# Imports\n",
    "#from pandas_datareader import data as pdr\n",
    "#from yahoo_fin import stock_info as si\n",
    "\n",
    "import numpy as np\n",
    "from sklearn import linear_model\n",
    "import scipy.stats\n",
    "\n",
    "\n",
    "import numpy as np\n",
    "from sklearn import linear_model\n",
    "\n",
    "import pandas as pd\n",
    "\n",
    "import plotly.io as pio\n",
    "import plotly.express as px\n",
    "from plotly.figure_factory import create_candlestick\n",
    "import plotly.graph_objects as go\n",
    "from plotly.offline import init_notebook_mode, iplot\n",
    "\n",
    "import seaborn as sns\n",
    "from IPython.display import display, HTML\n",
    "\n",
    "from pandas import ExcelWriter\n",
    "\n",
    "# from sympy import maximum\n",
    "\n",
    "import RSI_strat_SETUP\n",
    "\n",
    "#init_notebook_mode()"
   ]
  },
  {
   "cell_type": "code",
   "execution_count": null,
   "metadata": {},
   "outputs": [],
   "source": [
    "def main(fad, stock):\n",
    "\n",
    "\n",
    "    #onlyfiles = [f for f in listdir(mypath) if (isfile(join(mypath, f)) and not f.startswith(\"_\")) ]\n",
    "\n",
    "    b=[]\n",
    "    c=[]\n",
    "    figs=[]\n",
    "    counter  = 0\n",
    "\n",
    "    keys = [\"Sector\",\"Industry\"]\n",
    "    a=[]    \n",
    "    b=[]\n",
    "    \n",
    "    for key in keys:\n",
    "        'Baue Dataframe aus der exisitierendnen Res Datei. Relevnt sind die Sektoren und die 5d,10,20d,... returns'\n",
    "        df = pd.read_csv(fad +\"\\\\\"+stock,sep=\";\",decimal=',', index_col=0)\n",
    "        \n",
    "        ###### Remove all Rows with bullshit Entrys such as NaN, etc. \n",
    "        df = df.dropna()\n",
    "        discard = [\"sector\",\"ETF\",\"Industry\",\"nan\"]\n",
    "        df = df[~df.Sector.str.contains('|'.join(discard))]\n",
    "        df = df[~df.Industry.str.contains('|'.join(discard))]\n",
    "        \n",
    "        csa = [key]\n",
    "        csa = csa +  df.columns[:5].tolist()\n",
    "        sectorsOrIndustry_analysis = pd.DataFrame(columns=csa)\n",
    "\n",
    "        ## liste aller Sektor bzw. Industry Bezeichner\n",
    "        list_of_sectorsOrIndustry = df[key].unique().tolist()\n",
    "        sectorsOrIndustry_analysis[key]=df[key].unique().tolist()\n",
    "\n",
    "\n",
    "        #print(key,\": \",sectorsOrIndustry_analysis[key])\n",
    "\n",
    "        # try:\n",
    "        #     list_of_sectorsOrIndustry=list_of_sectorsOrIndustry.remove(\"nan\")\n",
    "        #     list_of_sectorsOrIndustry=list_of_sectorsOrIndustry.remove(\"sector\")\n",
    "        #     list_of_sectorsOrIndustry=list_of_sectorsOrIndustry.remove(\"ETF\")\n",
    "        #     list_of_sectorsOrIndustry=list_of_sectorsOrIndustry.remove(\"Industry\")\n",
    "\n",
    "        #     sectorsOrIndustry_analysis=sectorsOrIndustry_analysis.remove(\"nan\")\n",
    "        #     sectorsOrIndustry_analysis=sectorsOrIndustry_analysis.remove(\"sector\")\n",
    "        #     sectorsOrIndustry_analysis=sectorsOrIndustry_analysis.remove(\"ETF\")\n",
    "        #     sectorsOrIndustry_analysis=list_of_sectorsOrIndustry.remove(\"Industry\")\n",
    "        # except:\n",
    "        #     print(\"-->\")\n",
    "            \n",
    "\n",
    "        # Wenn nach Industry aufgelöst wird, dann fuege den Sektor in den TAble dazu \n",
    "        if key == \"Industry\":\n",
    "            for i in sectorsOrIndustry_analysis[key]:\n",
    "                try:\n",
    "                    a=df[\"Sector\"][df[\"Industry\"]==i]\n",
    "                    b.append(a[0])\n",
    "                except:\n",
    "                    print(\"errours:\",key,\", \",i)\n",
    "\n",
    "            #print(\"b: \",b)    \n",
    "            sectorsOrIndustry_analysis[\"Sector\"]=b\n",
    "        ################################\n",
    "\n",
    "        for dt in df.columns[:5].tolist():\n",
    "            yields=[]\n",
    "            for sec in sectorsOrIndustry_analysis[key]:\n",
    "                yields.append(df.loc[df[key]==sec, dt].mean())\n",
    "            #print(yields)\n",
    "            sectorsOrIndustry_analysis[dt]=yields\n",
    "\n",
    "        \n",
    "        #cm2 = sns.light_palette(\"red\", as_cmap=True)\n",
    "        cm1 = sns.blend_palette(['red',\"white\", 'green'], as_cmap=True)\n",
    "        #display()\n",
    "\n",
    "        sectorsOrIndustry_analysis=sectorsOrIndustry_analysis.sort_values(by=\"Sector\",ascending=False)\n",
    "        \n",
    "        display(sectorsOrIndustry_analysis.style.set_precision(2).background_gradient(cmap=cm1,axis=0)       )\n",
    "\n",
    "        f = open(fad+key+\"_s.html\",'w'); f.write(sectorsOrIndustry_analysis.style.set_precision(2).set_caption('Spaltenweise Color').background_gradient(axis=0,cmap=cm1).render()); f.close()\n",
    "        f = open(fad+key+\"_z.html\",'w'); f.write(sectorsOrIndustry_analysis.style.set_precision(2).set_caption('Zeilenweise Color').background_gradient(axis=1,cmap=cm1).render()); f.close()    \n",
    "        \n",
    "    "
   ]
  },
  {
   "cell_type": "code",
   "execution_count": null,
   "metadata": {},
   "outputs": [],
   "source": [
    "currentdir = os.path.abspath('')\n",
    "parentdir = os.path.realpath(os.path.join(currentdir, '..'))\n",
    "sys.path.insert(0, parentdir) \n",
    "#############################################################\n",
    "\n",
    "pfad = RSI_strat_SETUP.pfad\n",
    "\n",
    "from MomentumScreening import my_setup\n",
    "###\n",
    "### The whole /ETFS/ Tree has to be located on ame level as repository !\n",
    "pfad = os.path.realpath(os.path.join(parentdir, 'ETFS'))\n"
   ]
  },
  {
   "cell_type": "markdown",
   "metadata": {},
   "source": [
    "### --------------------------------------------------------------------------\n",
    "### Welcher Sektor oder index soll analysieert werden ?"
   ]
  },
  {
   "cell_type": "code",
   "execution_count": null,
   "metadata": {},
   "outputs": [],
   "source": [
    "who = \"Deutschland500\""
   ]
  },
  {
   "cell_type": "code",
   "execution_count": null,
   "metadata": {},
   "outputs": [],
   "source": [
    "\n",
    "who = \"RES_\" + who \n",
    "pfad = os.path.realpath(os.path.join(pfad, who))\n",
    "pfad = os.path.realpath(os.path.join(pfad, 'Res'))\n"
   ]
  },
  {
   "cell_type": "markdown",
   "metadata": {},
   "source": [
    "### ---------------------------------------------------------------------"
   ]
  },
  {
   "cell_type": "markdown",
   "metadata": {},
   "source": [
    " "
   ]
  },
  {
   "cell_type": "code",
   "execution_count": null,
   "metadata": {
    "scrolled": false
   },
   "outputs": [],
   "source": [
    "#main(stock,          back_gap, fwd_gap, threshold rendite backward, threshold renidte forward,comment )\n",
    "file = \"SP502022-10-15__2022-06-23.csv\"\n",
    "main(pfad, file)"
   ]
  },
  {
   "cell_type": "code",
   "execution_count": null,
   "metadata": {},
   "outputs": [],
   "source": []
  }
 ],
 "metadata": {
  "interpreter": {
   "hash": "a76b59f2299f1452bd3e67a61cdb56fcda763d37b118fdd331e2efb591eaa24a"
  },
  "kernelspec": {
   "display_name": "Python 3.8.8 32-bit ('base': conda)",
   "name": "python3"
  },
  "language_info": {
   "codemirror_mode": {
    "name": "ipython",
    "version": 3
   },
   "file_extension": ".py",
   "mimetype": "text/x-python",
   "name": "python",
   "nbconvert_exporter": "python",
   "pygments_lexer": "ipython3",
   "version": "3.8.8"
  },
  "vscode": {
   "interpreter": {
    "hash": "072032cb4621292dbbe9c47ec612706b3a5fe1c2f3cd085779a3573cd04acabb"
   }
  }
 },
 "nbformat": 4,
 "nbformat_minor": 2
}
