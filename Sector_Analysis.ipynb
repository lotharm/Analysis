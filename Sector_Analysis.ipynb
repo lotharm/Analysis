{
 "cells": [
  {
   "cell_type": "code",
   "execution_count": null,
   "metadata": {},
   "outputs": [],
   "source": [
    "\"\"\"\n",
    "Created on Wed Jul  7 17:46:12 2021\n",
    "\n",
    "@author: Schroeder\n",
    "\"\"\"\n",
    "\n",
    "from turtle import color\n",
    "import matplotlib\n",
    "from matplotlib import colors\n",
    "\n",
    "from IPython.display import display, HTML\n",
    "\n",
    "from pathlib import Path\n",
    "import csv\n",
    "\n",
    "from datetime import datetime\n",
    "from datetime import date\n",
    "import calendar\n",
    "\n",
    "import os\n",
    "from os import listdir\n",
    "from os.path import isfile, join\n",
    "\n",
    "import sys, getopt\n",
    "\n",
    "# Imports\n",
    "#from pandas_datareader import data as pdr\n",
    "#from yahoo_fin import stock_info as si\n",
    "\n",
    "import numpy as np\n",
    "import numpy as np\n",
    "from sklearn import linear_model\n",
    "import scipy.stats\n",
    "\n",
    "\n",
    "import numpy as np\n",
    "from sklearn import linear_model\n",
    "\n",
    "import pandas as pd\n",
    "\n",
    "import plotly.io as pio\n",
    "import plotly.express as px\n",
    "from plotly.figure_factory import create_candlestick\n",
    "import plotly.graph_objects as go\n",
    "from plotly.offline import init_notebook_mode, iplot\n",
    "\n",
    "from pandas import ExcelWriter\n",
    "\n",
    "# from sympy import maximum\n",
    "\n",
    "import RSI_strat_SETUP\n",
    "\n",
    "#init_notebook_mode()"
   ]
  },
  {
   "cell_type": "code",
   "execution_count": null,
   "metadata": {},
   "outputs": [],
   "source": [
    "def main(fad, stock):\n",
    "\n",
    "\n",
    "    #onlyfiles = [f for f in listdir(mypath) if (isfile(join(mypath, f)) and not f.startswith(\"_\")) ]\n",
    "\n",
    "    b=[]\n",
    "    c=[]\n",
    "    figs=[]\n",
    "    counter  = 0\n",
    "\n",
    "    keys = [\"Sector\",\"Industry\"]\n",
    "    a=[]    \n",
    "    b=[]\n",
    "    \n",
    "    for key in keys:\n",
    "        'Baue Dataframe aus der exisitierendnen Res Datei. Relevnt sind die Sektoren und die 5d,10,20d,... returns'\n",
    "        df = pd.read_csv(fad +\"//\"+stock,sep=\";\",decimal=',', index_col=0)\n",
    "        csa = [key]\n",
    "        csa = csa +  df.columns[:5].tolist()\n",
    "        sector_analysis = pd.DataFrame(columns=csa)\n",
    "\n",
    "        list_of_sectors = df[key].unique().tolist()\n",
    "        sector_analysis[key]=df[key].unique().tolist()\n",
    "\n",
    "        # Wenn nach Industry aufgelöst wird, dann fuerg den Sektor in den TAble dazu \n",
    "        if key == \"Industry\":\n",
    "            print(sector_analysis[\"Industry\"])\n",
    "            for i in sector_analysis[\"Industry\"]:\n",
    "                a=df[\"Sector\"][df[\"Industry\"]==i]\n",
    "                b.append(a[0])    \n",
    "            print(b)    \n",
    "            sector_analysis[\"Sector\"]=b\n",
    "        ################################\n",
    "\n",
    "        for dt in df.columns[:5].tolist():\n",
    "            yields=[]\n",
    "            for sec in sector_analysis[key]:\n",
    "                yields.append(df.loc[df[key]==sec, dt].mean())\n",
    "            #print(yields)\n",
    "            sector_analysis[dt]=yields\n",
    "\n",
    "        sector_analysis=sector_analysis.sort_values(by=\"10d\",ascending=False)\n",
    "        sector_analysis.style.background_gradient()        \n",
    "\n",
    "        f = open(fad+key+\"_s.html\",'w'); f.write(sector_analysis.style.set_precision(2).set_caption('Spaltenweise Color').background_gradient(axis=0,cmap=\"Spectral\").render()); f.close()\n",
    "        f = open(fad+key+\"_z.html\",'w'); f.write(sector_analysis.style.set_precision(2).set_caption('Zeilenweise Color').background_gradient(axis=1,cmap=\"Spectral\").render()); f.close()    \n",
    "        \n",
    "    "
   ]
  },
  {
   "cell_type": "markdown",
   "metadata": {},
   "source": [
    "### Gebe Pfad an, unter dem das Datenfile zu finden ist.  \n",
    "#### Bsp: C:/Users/Schroeder/OneDrive/Trading/ETFS/RES_Aristokraten/Res/"
   ]
  },
  {
   "cell_type": "code",
   "execution_count": null,
   "metadata": {},
   "outputs": [],
   "source": [
    "currentdir = os.path.abspath('')\n",
    "parentdir = os.path.realpath(os.path.join(currentdir, '..'))\n",
    "sys.path.insert(0, parentdir) \n",
    "#############################################################\n",
    "\n",
    "from MomentumScreening import my_setup\n",
    "###\n",
    "### The whole /ETFS/ Tree has to be located on ame level as repository !\n",
    "pfad = os.path.realpath(os.path.join(parentdir, 'ETFS'))\n"
   ]
  },
  {
   "cell_type": "markdown",
   "metadata": {},
   "source": [
    "### --------------------------------------------------------------------------\n",
    "### Welcher Sektor oder index soll analysieert werden ?"
   ]
  },
  {
   "cell_type": "code",
   "execution_count": null,
   "metadata": {},
   "outputs": [],
   "source": [
    "who = \"EUsektoren\"\n",
    "\n",
    "\n",
    "who = \"RES_\" + who \n",
    "pfad = os.path.realpath(os.path.join(pfad, who))\n",
    "pfad = os.path.realpath(os.path.join(pfad, 'Res'))\n",
    "\n",
    "file  = \"EUse2022-08-12__2022-04-20\" + \".csv\""
   ]
  },
  {
   "cell_type": "markdown",
   "metadata": {},
   "source": [
    "### ---------------------------------------------------------------------"
   ]
  },
  {
   "cell_type": "code",
   "execution_count": null,
   "metadata": {},
   "outputs": [],
   "source": [
    "\n",
    "print(pfad)\n",
    "print(pfad + \"\\\\\" + file)"
   ]
  },
  {
   "cell_type": "markdown",
   "metadata": {},
   "source": [
    " "
   ]
  },
  {
   "cell_type": "code",
   "execution_count": 14,
   "metadata": {
    "scrolled": false
   },
   "outputs": [
    {
     "name": "stdout",
     "output_type": "stream",
     "text": [
      "0                Specialty Chemicals\n",
      "1                Oil & Gas Midstream\n",
      "2       Utilities—Regulated Electric\n",
      "3      Household & Personal Products\n",
      "4                  Personal Services\n",
      "                   ...              \n",
      "136                           Copper\n",
      "137                  Travel Services\n",
      "138          Real Estate—Diversified\n",
      "139          Airports & Air Services\n",
      "140                         Aluminum\n",
      "Name: Industry, Length: 141, dtype: object\n",
      "['Basic Materials', 'Energy', 'Utilities', 'Consumer Defensive', 'Consumer Cyclical', 'Basic Materials', 'Industrials', 'Energy', 'Consumer Cyclical', 'Industrials', 'Consumer Defensive', 'Real Estate', 'Consumer Defensive', 'Healthcare', 'Industrials', 'Technology', 'Industrials', 'Healthcare', 'Industrials', 'Industrials', 'Real Estate', 'Consumer Cyclical', 'Healthcare', 'Industrials', 'Healthcare', 'Industrials', 'Healthcare', 'Industrials', 'Consumer Cyclical', 'Utilities', 'Real Estate', 'Financial Services', 'Consumer Cyclical', 'Healthcare', 'Energy', 'Technology', 'Real Estate', 'Real Estate', 'Consumer Cyclical', 'Communication Services', 'Industrials', 'Real Estate', 'Energy', 'Industrials', 'Financial Services', 'Technology', 'Financial Services', 'Consumer Cyclical', 'Financial Services', 'Technology', 'Consumer Cyclical', 'Consumer Cyclical', 'Real Estate', 'Consumer Cyclical', 'Utilities', 'Financial Services', 'Healthcare', 'Consumer Defensive', 'Industrials', 'Communication Services', 'Consumer Cyclical', 'Industrials', 'Industrials', 'Industrials', 'Industrials', 'Healthcare', 'Industrials', 'Healthcare', 'Healthcare', 'sector', 'Industrials', 'Financial Services', 'Financial Services', 'Technology', 'Financial Services', 'Consumer Defensive', 'Consumer Cyclical', 'Real Estate', 'Financial Services', 'Technology', 'Financial Services', 'Real Estate', 'Consumer Cyclical', 'Industrials', 'Industrials', 'Consumer Cyclical', 'Consumer Cyclical', 'Consumer Cyclical', 'Real Estate', 'Consumer Defensive', 'Consumer Defensive', 'Utilities', 'Consumer Cyclical', 'Industrials', 'Basic Materials', 'Technology', 'Basic Materials', 'Consumer Cyclical', 'Financial Services', 'Utilities', 'Consumer Defensive', 'Communication Services', 'Industrials', 'Industrials', 'Basic Materials', 'Technology', 'Industrials', 'Consumer Cyclical', 'Financial Services', 'Communication Services', 'Basic Materials', 'Energy', 'Utilities', 'Real Estate', 'Consumer Cyclical', 'Financial Services', 'Energy', 'Consumer Defensive', 'Financial Services', 'Technology', 'Basic Materials', 'Consumer Defensive', 'Energy', 'Basic Materials', 'Consumer Cyclical', 'Communication Services', 'Consumer Cyclical', 'Consumer Defensive', 'Financial Services', 'Basic Materials', 'Consumer Defensive', 'Energy', 'Communication Services', 'Basic Materials', 'Basic Materials', 'Basic Materials', 'Basic Materials', 'Consumer Cyclical', 'Real Estate', 'Industrials', 'Basic Materials']\n"
     ]
    }
   ],
   "source": [
    "#main(stock,          back_gap, fwd_gap, threshold rendite backward, threshold renidte forward,comment )\n",
    "\n",
    "main(pfad, file)"
   ]
  },
  {
   "cell_type": "code",
   "execution_count": null,
   "metadata": {},
   "outputs": [],
   "source": []
  }
 ],
 "metadata": {
  "interpreter": {
   "hash": "1eeed662d4e0aec0daec9fbef0f4bebea6e5a88731d55a40c66e53b57018d805"
  },
  "kernelspec": {
   "display_name": "Python 3.8.10 32-bit ('DataGrabber': conda)",
   "name": "python3"
  },
  "language_info": {
   "codemirror_mode": {
    "name": "ipython",
    "version": 3
   },
   "file_extension": ".py",
   "mimetype": "text/x-python",
   "name": "python",
   "nbconvert_exporter": "python",
   "pygments_lexer": "ipython3",
   "version": "3.8.10"
  },
  "vscode": {
   "interpreter": {
    "hash": "ad2bdc8ecc057115af97d19610ffacc2b4e99fae6737bb82f5d7fb13d2f2c186"
   }
  }
 },
 "nbformat": 4,
 "nbformat_minor": 2
}
