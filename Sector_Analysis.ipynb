{
 "cells": [
  {
   "cell_type": "code",
   "execution_count": 1,
   "metadata": {},
   "outputs": [
    {
     "name": "stdout",
     "output_type": "stream",
     "text": [
      "hier:  C:\\Users\\Michael\\Trading\\ETFS\\Analyse_data\n"
     ]
    }
   ],
   "source": [
    "\"\"\"\n",
    "Created on Wed Jul  7 17:46:12 2021\n",
    "\n",
    "@author: Schroeder\n",
    "\"\"\"\n",
    "\n",
    "from turtle import color\n",
    "import matplotlib\n",
    "from matplotlib import colors\n",
    "\n",
    "from IPython.display import display, HTML\n",
    "\n",
    "from pathlib import Path\n",
    "import csv\n",
    "\n",
    "from datetime import datetime\n",
    "from datetime import date\n",
    "import calendar\n",
    "\n",
    "import os\n",
    "from os import listdir\n",
    "from os.path import isfile, join\n",
    "\n",
    "import sys, getopt\n",
    "\n",
    "# Imports\n",
    "#from pandas_datareader import data as pdr\n",
    "#from yahoo_fin import stock_info as si\n",
    "\n",
    "import numpy as np\n",
    "import numpy as np\n",
    "from sklearn import linear_model\n",
    "import scipy.stats\n",
    "\n",
    "\n",
    "import numpy as np\n",
    "from sklearn import linear_model\n",
    "\n",
    "import pandas as pd\n",
    "\n",
    "import plotly.io as pio\n",
    "import plotly.express as px\n",
    "from plotly.figure_factory import create_candlestick\n",
    "import plotly.graph_objects as go\n",
    "from plotly.offline import init_notebook_mode, iplot\n",
    "\n",
    "from pandas import ExcelWriter\n",
    "\n",
    "# from sympy import maximum\n",
    "\n",
    "import RSI_strat_SETUP\n",
    "\n",
    "#init_notebook_mode()"
   ]
  },
  {
   "cell_type": "code",
   "execution_count": 2,
   "metadata": {},
   "outputs": [],
   "source": [
    "def main(fad, stock):\n",
    "\n",
    "\n",
    "    #onlyfiles = [f for f in listdir(mypath) if (isfile(join(mypath, f)) and not f.startswith(\"_\")) ]\n",
    "\n",
    "    b=[]\n",
    "    c=[]\n",
    "    figs=[]\n",
    "    counter  = 0\n",
    "\n",
    "    keys = [\"Sector\",\"Industry\"]\n",
    "    a=[]    \n",
    "    b=[]\n",
    "    \n",
    "    for key in keys:\n",
    "        'Baue Dataframe aus der exisitierendnen Res Datei. Relevnt sind die Sektoren und die 5d,10,20d,... returns'\n",
    "        df = pd.read_csv(fad +\"//\"+stock,sep=\";\",decimal=',', index_col=0)\n",
    "        csa = [key]\n",
    "        csa = csa +  df.columns[:5].tolist()\n",
    "        sector_analysis = pd.DataFrame(columns=csa)\n",
    "\n",
    "        list_of_sectors = df[key].unique().tolist()\n",
    "        sector_analysis[key]=df[key].unique().tolist()\n",
    "\n",
    "        list_of_sectors\n",
    "        sector_analysis\n",
    "\n",
    "        # Wenn nach Industry aufgelöst wird, dann fuerg den Sektor in den TAble dazu \n",
    "        if key == \"Industry\":\n",
    "            print(sector_analysis[\"Industry\"])\n",
    "            for i in sector_analysis[\"Industry\"]:\n",
    "                try:\n",
    "                    a=df[\"Sector\"][df[\"Industry\"]==i]\n",
    "                    b.append(a[0])\n",
    "                except:\n",
    "                    print(\"errours:\",key,\", \",i)\n",
    "\n",
    "            print(b)    \n",
    "            sector_analysis[\"Sector\"]=b\n",
    "        ################################\n",
    "\n",
    "        for dt in df.columns[:5].tolist():\n",
    "            yields=[]\n",
    "            for sec in sector_analysis[key]:\n",
    "                yields.append(df.loc[df[key]==sec, dt].mean())\n",
    "            #print(yields)\n",
    "            sector_analysis[dt]=yields\n",
    "\n",
    "        sector_analysis=sector_analysis.sort_values(by=\"10d\",ascending=False)\n",
    "        sector_analysis.style.background_gradient()        \n",
    "\n",
    "        f = open(fad+key+\"_s.html\",'w'); f.write(sector_analysis.style.set_precision(2).set_caption('Spaltenweise Color').background_gradient(axis=0,cmap=\"Spectral\").render()); f.close()\n",
    "        f = open(fad+key+\"_z.html\",'w'); f.write(sector_analysis.style.set_precision(2).set_caption('Zeilenweise Color').background_gradient(axis=1,cmap=\"Spectral\").render()); f.close()    \n",
    "        \n",
    "    "
   ]
  },
  {
   "cell_type": "markdown",
   "metadata": {},
   "source": [
    "### Gebe Pfad an, unter dem das Datenfile zu finden ist.  \n",
    "#### Bsp: C:/Users/Schroeder/OneDrive/Trading/ETFS/RES_Aristokraten/Res/"
   ]
  },
  {
   "cell_type": "code",
   "execution_count": 3,
   "metadata": {},
   "outputs": [],
   "source": [
    "currentdir = os.path.abspath('')\n",
    "parentdir = os.path.realpath(os.path.join(currentdir, '..'))\n",
    "sys.path.insert(0, parentdir) \n",
    "#############################################################\n",
    "\n",
    "pfad = RSI_strat_SETUP.pfad\n",
    "\n",
    "from MomentumScreening import my_setup\n",
    "###\n",
    "### The whole /ETFS/ Tree has to be located on ame level as repository !\n",
    "pfad = os.path.realpath(os.path.join(parentdir, 'ETFS'))\n"
   ]
  },
  {
   "cell_type": "markdown",
   "metadata": {},
   "source": [
    "### --------------------------------------------------------------------------\n",
    "### Welcher Sektor oder index soll analysieert werden ?"
   ]
  },
  {
   "cell_type": "code",
   "execution_count": 4,
   "metadata": {},
   "outputs": [
    {
     "name": "stdout",
     "output_type": "stream",
     "text": [
      "C:\\Users\\Michael\\Trading\\ETFS\\RES_Deutschland500\\Res\n",
      "C:\\Users\\Michael\\Trading\\ETFS\\RES_Deutschland500\\Res\\Deut2022-08-25__2022-05-03.csv\n"
     ]
    }
   ],
   "source": [
    "who = \"Deutschland500\"\n",
    "\n",
    "who = \"RES_\" + who \n",
    "pfad = os.path.realpath(os.path.join(pfad, who))\n",
    "pfad = os.path.realpath(os.path.join(pfad, 'Res'))\n",
    "\n",
    "file  = \"Deut2022-08-25__2022-05-03\" + \".csv\"\n",
    "\n",
    "\n",
    "print(pfad)\n",
    "print(pfad + \"\\\\\" + file)"
   ]
  },
  {
   "cell_type": "markdown",
   "metadata": {},
   "source": [
    "### ---------------------------------------------------------------------"
   ]
  },
  {
   "cell_type": "markdown",
   "metadata": {},
   "source": [
    " "
   ]
  },
  {
   "cell_type": "code",
   "execution_count": 5,
   "metadata": {
    "scrolled": false
   },
   "outputs": [
    {
     "name": "stdout",
     "output_type": "stream",
     "text": [
      "0                       Utilities—Renewable\n",
      "1                       Specialty Chemicals\n",
      "2                      Real Estate Services\n",
      "3                             Entertainment\n",
      "4                        Oil & Gas Drilling\n",
      "                      ...                  \n",
      "92                                 Gambling\n",
      "93                                   Copper\n",
      "94                  Home Improvement Retail\n",
      "95                      Agricultural Inputs\n",
      "96    Utilities—Independent Power Producers\n",
      "Name: Industry, Length: 97, dtype: object\n",
      "['Utilities', 'Basic Materials', 'Real Estate', 'Communication Services', 'Energy', 'Healthcare', 'Technology', 'Consumer Cyclical', 'Technology', 'Technology', 'Industrials', 'Consumer Cyclical', 'Consumer Cyclical', 'sector', 'Healthcare', 'Consumer Cyclical', 'Basic Materials', 'Real Estate', 'Technology', 'Technology', 'Consumer Defensive', 'Industrials', 'Industrials', 'Financial Services', 'Technology', 'Healthcare', 'Industrials', 'Financial Services', 'Industrials', 'Industrials', 'Industrials', 'Consumer Defensive', 'Financial Services', 'Technology', 'Industrials', 'Basic Materials', 'Utilities', 'Communication Services', 'Consumer Cyclical', 'Healthcare', 'Industrials', 'Industrials', 'Healthcare', 'Industrials', 'Communication Services', 'Healthcare', 'Consumer Cyclical', 'Financial Services', 'Healthcare', 'Consumer Cyclical', 'Technology', 'Healthcare', 'Consumer Cyclical', 'Consumer Cyclical', 'Consumer Cyclical', 'Industrials', 'Financial Services', 'Technology', 'Consumer Defensive', 'Financial Services', 'Industrials', 'Consumer Defensive', 'Basic Materials', 'Industrials', 'Industrials', 'Communication Services', 'Energy', 'Communication Services', 'Financial Services', 'Technology', 'Industrials', 'Technology', 'Consumer Defensive', 'Technology', 'Energy', 'Basic Materials', 'Consumer Cyclical', 'Basic Materials', 'Financial Services', 'Industrials', 'Consumer Cyclical', 'Financial Services', 'Real Estate', 'Consumer Cyclical', 'Industrials', 'Consumer Cyclical', 'Industrials', 'Communication Services', 'Financial Services', 'Healthcare', 'Industrials', 'Consumer Cyclical', 'Consumer Cyclical', 'Basic Materials', 'Consumer Cyclical', 'Basic Materials', 'Utilities']\n"
     ]
    }
   ],
   "source": [
    "#main(stock,          back_gap, fwd_gap, threshold rendite backward, threshold renidte forward,comment )\n",
    "\n",
    "main(pfad, file)"
   ]
  },
  {
   "cell_type": "code",
   "execution_count": null,
   "metadata": {},
   "outputs": [],
   "source": []
  }
 ],
 "metadata": {
  "kernelspec": {
   "display_name": "Python 3.8.8 ('base')",
   "language": "python",
   "name": "python3"
  },
  "language_info": {
   "codemirror_mode": {
    "name": "ipython",
    "version": 3
   },
   "file_extension": ".py",
   "mimetype": "text/x-python",
   "name": "python",
   "nbconvert_exporter": "python",
   "pygments_lexer": "ipython3",
   "version": "3.8.8"
  },
  "vscode": {
   "interpreter": {
    "hash": "ad2bdc8ecc057115af97d19610ffacc2b4e99fae6737bb82f5d7fb13d2f2c186"
   }
  }
 },
 "nbformat": 4,
 "nbformat_minor": 2
}
