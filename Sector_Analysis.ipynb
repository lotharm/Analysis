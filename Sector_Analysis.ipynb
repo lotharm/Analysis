{
 "cells": [
  {
   "cell_type": "code",
   "execution_count": 1,
   "metadata": {},
   "outputs": [
    {
     "name": "stdout",
     "output_type": "stream",
     "text": [
      "hier:  C:\\Users\\Michael\\Trading\\ETFS\\Analyse_data\n"
     ]
    }
   ],
   "source": [
    "\"\"\"\n",
    "Created on Wed Jul  7 17:46:12 2021\n",
    "\n",
    "@author: Schroeder\n",
    "\"\"\"\n",
    "\n",
    "from turtle import color\n",
    "import matplotlib\n",
    "from matplotlib import colors\n",
    "\n",
    "from IPython.display import display, HTML\n",
    "\n",
    "from pathlib import Path\n",
    "import csv\n",
    "\n",
    "from datetime import datetime\n",
    "from datetime import date\n",
    "import calendar\n",
    "\n",
    "import os\n",
    "from os import listdir\n",
    "from os.path import isfile, join\n",
    "\n",
    "import sys, getopt\n",
    "\n",
    "# Imports\n",
    "#from pandas_datareader import data as pdr\n",
    "#from yahoo_fin import stock_info as si\n",
    "\n",
    "import numpy as np\n",
    "import numpy as np\n",
    "from sklearn import linear_model\n",
    "import scipy.stats\n",
    "\n",
    "\n",
    "import numpy as np\n",
    "from sklearn import linear_model\n",
    "\n",
    "import pandas as pd\n",
    "\n",
    "import plotly.io as pio\n",
    "import plotly.express as px\n",
    "from plotly.figure_factory import create_candlestick\n",
    "import plotly.graph_objects as go\n",
    "from plotly.offline import init_notebook_mode, iplot\n",
    "\n",
    "from pandas import ExcelWriter\n",
    "\n",
    "# from sympy import maximum\n",
    "\n",
    "import RSI_strat_SETUP\n",
    "\n",
    "#init_notebook_mode()"
   ]
  },
  {
   "cell_type": "code",
   "execution_count": 2,
   "metadata": {},
   "outputs": [],
   "source": [
    "def main(fad, stock):\n",
    "\n",
    "\n",
    "    #onlyfiles = [f for f in listdir(mypath) if (isfile(join(mypath, f)) and not f.startswith(\"_\")) ]\n",
    "\n",
    "    b=[]\n",
    "    c=[]\n",
    "    figs=[]\n",
    "    counter  = 0\n",
    "\n",
    "    keys = [\"Sector\",\"Industry\"]\n",
    "    a=[]    \n",
    "    b=[]\n",
    "    \n",
    "    for key in keys:\n",
    "        'Baue Dataframe aus der exisitierendnen Res Datei. Relevnt sind die Sektoren und die 5d,10,20d,... returns'\n",
    "        df = pd.read_csv(fad +\"//\"+stock,sep=\";\",decimal=',', index_col=0)\n",
    "        csa = [key]\n",
    "        csa = csa +  df.columns[:5].tolist()\n",
    "        sector_analysis = pd.DataFrame(columns=csa)\n",
    "\n",
    "        list_of_sectors = df[key].unique().tolist()\n",
    "        sector_analysis[key]=df[key].unique().tolist()\n",
    "\n",
    "        # Wenn nach Industry aufgelöst wird, dann fuerg den Sektor in den TAble dazu \n",
    "        if key == \"Industry\":\n",
    "            print(sector_analysis[\"Industry\"])\n",
    "            for i in sector_analysis[\"Industry\"]:\n",
    "                a=df[\"Sector\"][df[\"Industry\"]==i]\n",
    "                b.append(a[0])    \n",
    "            print(b)    \n",
    "            sector_analysis[\"Sector\"]=b\n",
    "        ################################\n",
    "\n",
    "        for dt in df.columns[:5].tolist():\n",
    "            yields=[]\n",
    "            for sec in sector_analysis[key]:\n",
    "                yields.append(df.loc[df[key]==sec, dt].mean())\n",
    "            #print(yields)\n",
    "            sector_analysis[dt]=yields\n",
    "\n",
    "        sector_analysis=sector_analysis.sort_values(by=\"10d\",ascending=False)\n",
    "        sector_analysis.style.background_gradient()        \n",
    "\n",
    "        f = open(fad+key+\"_s.html\",'w'); f.write(sector_analysis.style.set_precision(2).set_caption('Spaltenweise Color').background_gradient(axis=0,cmap=\"Spectral\").render()); f.close()\n",
    "        f = open(fad+key+\"_z.html\",'w'); f.write(sector_analysis.style.set_precision(2).set_caption('Zeilenweise Color').background_gradient(axis=1,cmap=\"Spectral\").render()); f.close()    \n",
    "        \n",
    "    "
   ]
  },
  {
   "cell_type": "markdown",
   "metadata": {},
   "source": [
    "### Gebe Pfad an, unter dem das Datenfile zu finden ist.  \n",
    "#### Bsp: C:/Users/Schroeder/OneDrive/Trading/ETFS/RES_Aristokraten/Res/"
   ]
  },
  {
   "cell_type": "code",
   "execution_count": 3,
   "metadata": {},
   "outputs": [],
   "source": [
    "currentdir = os.path.abspath('')\n",
    "parentdir = os.path.realpath(os.path.join(currentdir, '..'))\n",
    "sys.path.insert(0, parentdir) \n",
    "#############################################################\n",
    "\n",
    "from MomentumScreening import my_setup\n",
    "###\n",
    "### The whole /ETFS/ Tree has to be located on ame level as repository !\n",
    "pfad = os.path.realpath(os.path.join(parentdir, 'ETFS'))\n"
   ]
  },
  {
   "cell_type": "markdown",
   "metadata": {},
   "source": [
    "### --------------------------------------------------------------------------\n",
    "### Welcher Sektor oder index soll analysieert werden ?"
   ]
  },
  {
   "cell_type": "code",
   "execution_count": 4,
   "metadata": {},
   "outputs": [],
   "source": [
    "who = \"SP500\"\n",
    "\n",
    "\n",
    "who = \"RES_\" + who \n",
    "pfad = os.path.realpath(os.path.join(pfad, who))\n",
    "pfad = os.path.realpath(os.path.join(pfad, 'Res'))\n",
    "\n",
    "file  = \"SP502022-08-21__2022-04-29\" + \".csv\""
   ]
  },
  {
   "cell_type": "markdown",
   "metadata": {},
   "source": [
    "### ---------------------------------------------------------------------"
   ]
  },
  {
   "cell_type": "code",
   "execution_count": 5,
   "metadata": {},
   "outputs": [
    {
     "name": "stdout",
     "output_type": "stream",
     "text": [
      "C:\\Users\\Michael\\Trading\\ETFS\\RES_SP500\\Res\n",
      "C:\\Users\\Michael\\Trading\\ETFS\\RES_SP500\\Res\\SP502022-08-21__2022-04-29.csv\n"
     ]
    }
   ],
   "source": [
    "\n",
    "print(pfad)\n",
    "print(pfad + \"\\\\\" + file)"
   ]
  },
  {
   "cell_type": "markdown",
   "metadata": {},
   "source": [
    " "
   ]
  },
  {
   "cell_type": "code",
   "execution_count": 6,
   "metadata": {
    "scrolled": false
   },
   "outputs": [
    {
     "name": "stderr",
     "output_type": "stream",
     "text": [
      "C:\\ProgramData\\Anaconda3\\lib\\site-packages\\pandas\\io\\formats\\style.py:1264: RuntimeWarning:\n",
      "\n",
      "All-NaN slice encountered\n",
      "\n",
      "C:\\ProgramData\\Anaconda3\\lib\\site-packages\\pandas\\io\\formats\\style.py:1265: RuntimeWarning:\n",
      "\n",
      "All-NaN slice encountered\n",
      "\n"
     ]
    },
    {
     "name": "stdout",
     "output_type": "stream",
     "text": [
      "0      Education & Training Services\n",
      "1                Oil & Gas Midstream\n",
      "2       Utilities—Regulated Electric\n",
      "3                       Thermal Coal\n",
      "4                  Personal Services\n",
      "                   ...              \n",
      "142                              NaN\n",
      "143               Oil & Gas Drilling\n",
      "144       Telecom Services - Foreign\n",
      "145          Real Estate—Diversified\n",
      "146                           Copper\n",
      "Name: Industry, Length: 147, dtype: object\n"
     ]
    },
    {
     "ename": "IndexError",
     "evalue": "index 0 is out of bounds for axis 0 with size 0",
     "output_type": "error",
     "traceback": [
      "\u001b[1;31m---------------------------------------------------------------------------\u001b[0m",
      "\u001b[1;31mIndexError\u001b[0m                                Traceback (most recent call last)",
      "\u001b[1;32m<ipython-input-6-9064521bc56c>\u001b[0m in \u001b[0;36m<module>\u001b[1;34m\u001b[0m\n\u001b[0;32m      1\u001b[0m \u001b[1;31m#main(stock,          back_gap, fwd_gap, threshold rendite backward, threshold renidte forward,comment )\u001b[0m\u001b[1;33m\u001b[0m\u001b[1;33m\u001b[0m\u001b[1;33m\u001b[0m\u001b[0m\n\u001b[0;32m      2\u001b[0m \u001b[1;33m\u001b[0m\u001b[0m\n\u001b[1;32m----> 3\u001b[1;33m \u001b[0mmain\u001b[0m\u001b[1;33m(\u001b[0m\u001b[0mpfad\u001b[0m\u001b[1;33m,\u001b[0m \u001b[0mfile\u001b[0m\u001b[1;33m)\u001b[0m\u001b[1;33m\u001b[0m\u001b[1;33m\u001b[0m\u001b[0m\n\u001b[0m",
      "\u001b[1;32m<ipython-input-2-ee594ff5c24f>\u001b[0m in \u001b[0;36mmain\u001b[1;34m(fad, stock)\u001b[0m\n\u001b[0;32m     28\u001b[0m             \u001b[1;32mfor\u001b[0m \u001b[0mi\u001b[0m \u001b[1;32min\u001b[0m \u001b[0msector_analysis\u001b[0m\u001b[1;33m[\u001b[0m\u001b[1;34m\"Industry\"\u001b[0m\u001b[1;33m]\u001b[0m\u001b[1;33m:\u001b[0m\u001b[1;33m\u001b[0m\u001b[1;33m\u001b[0m\u001b[0m\n\u001b[0;32m     29\u001b[0m                 \u001b[0ma\u001b[0m\u001b[1;33m=\u001b[0m\u001b[0mdf\u001b[0m\u001b[1;33m[\u001b[0m\u001b[1;34m\"Sector\"\u001b[0m\u001b[1;33m]\u001b[0m\u001b[1;33m[\u001b[0m\u001b[0mdf\u001b[0m\u001b[1;33m[\u001b[0m\u001b[1;34m\"Industry\"\u001b[0m\u001b[1;33m]\u001b[0m\u001b[1;33m==\u001b[0m\u001b[0mi\u001b[0m\u001b[1;33m]\u001b[0m\u001b[1;33m\u001b[0m\u001b[1;33m\u001b[0m\u001b[0m\n\u001b[1;32m---> 30\u001b[1;33m                 \u001b[0mb\u001b[0m\u001b[1;33m.\u001b[0m\u001b[0mappend\u001b[0m\u001b[1;33m(\u001b[0m\u001b[0ma\u001b[0m\u001b[1;33m[\u001b[0m\u001b[1;36m0\u001b[0m\u001b[1;33m]\u001b[0m\u001b[1;33m)\u001b[0m\u001b[1;33m\u001b[0m\u001b[1;33m\u001b[0m\u001b[0m\n\u001b[0m\u001b[0;32m     31\u001b[0m             \u001b[0mprint\u001b[0m\u001b[1;33m(\u001b[0m\u001b[0mb\u001b[0m\u001b[1;33m)\u001b[0m\u001b[1;33m\u001b[0m\u001b[1;33m\u001b[0m\u001b[0m\n\u001b[0;32m     32\u001b[0m             \u001b[0msector_analysis\u001b[0m\u001b[1;33m[\u001b[0m\u001b[1;34m\"Sector\"\u001b[0m\u001b[1;33m]\u001b[0m\u001b[1;33m=\u001b[0m\u001b[0mb\u001b[0m\u001b[1;33m\u001b[0m\u001b[1;33m\u001b[0m\u001b[0m\n",
      "\u001b[1;32mC:\\ProgramData\\Anaconda3\\lib\\site-packages\\pandas\\core\\series.py\u001b[0m in \u001b[0;36m__getitem__\u001b[1;34m(self, key)\u001b[0m\n\u001b[0;32m    848\u001b[0m \u001b[1;33m\u001b[0m\u001b[0m\n\u001b[0;32m    849\u001b[0m         \u001b[1;32mif\u001b[0m \u001b[0mis_integer\u001b[0m\u001b[1;33m(\u001b[0m\u001b[0mkey\u001b[0m\u001b[1;33m)\u001b[0m \u001b[1;32mand\u001b[0m \u001b[0mself\u001b[0m\u001b[1;33m.\u001b[0m\u001b[0mindex\u001b[0m\u001b[1;33m.\u001b[0m\u001b[0m_should_fallback_to_positional\u001b[0m\u001b[1;33m(\u001b[0m\u001b[1;33m)\u001b[0m\u001b[1;33m:\u001b[0m\u001b[1;33m\u001b[0m\u001b[1;33m\u001b[0m\u001b[0m\n\u001b[1;32m--> 850\u001b[1;33m             \u001b[1;32mreturn\u001b[0m \u001b[0mself\u001b[0m\u001b[1;33m.\u001b[0m\u001b[0m_values\u001b[0m\u001b[1;33m[\u001b[0m\u001b[0mkey\u001b[0m\u001b[1;33m]\u001b[0m\u001b[1;33m\u001b[0m\u001b[1;33m\u001b[0m\u001b[0m\n\u001b[0m\u001b[0;32m    851\u001b[0m \u001b[1;33m\u001b[0m\u001b[0m\n\u001b[0;32m    852\u001b[0m         \u001b[1;32melif\u001b[0m \u001b[0mkey_is_scalar\u001b[0m\u001b[1;33m:\u001b[0m\u001b[1;33m\u001b[0m\u001b[1;33m\u001b[0m\u001b[0m\n",
      "\u001b[1;31mIndexError\u001b[0m: index 0 is out of bounds for axis 0 with size 0"
     ]
    }
   ],
   "source": [
    "#main(stock,          back_gap, fwd_gap, threshold rendite backward, threshold renidte forward,comment )\n",
    "\n",
    "main(pfad, file)"
   ]
  },
  {
   "cell_type": "code",
   "execution_count": null,
   "metadata": {},
   "outputs": [],
   "source": []
  }
 ],
 "metadata": {
  "interpreter": {
   "hash": "1eeed662d4e0aec0daec9fbef0f4bebea6e5a88731d55a40c66e53b57018d805"
  },
  "kernelspec": {
   "display_name": "Python 3",
   "language": "python",
   "name": "python3"
  },
  "language_info": {
   "codemirror_mode": {
    "name": "ipython",
    "version": 3
   },
   "file_extension": ".py",
   "mimetype": "text/x-python",
   "name": "python",
   "nbconvert_exporter": "python",
   "pygments_lexer": "ipython3",
   "version": "3.8.8"
  },
  "vscode": {
   "interpreter": {
    "hash": "ad2bdc8ecc057115af97d19610ffacc2b4e99fae6737bb82f5d7fb13d2f2c186"
   }
  }
 },
 "nbformat": 4,
 "nbformat_minor": 2
}
