{
 "cells": [
  {
   "cell_type": "code",
   "execution_count": 3,
   "metadata": {},
   "outputs": [],
   "source": [
    "\"\"\"\n",
    "Created on Wed Jul  7 17:46:12 2021\n",
    "\n",
    "@author: Schroeder\n",
    "\"\"\"\n",
    "\n",
    "from turtle import color\n",
    "import matplotlib\n",
    "from matplotlib import colors\n",
    "\n",
    "from IPython.display import display, HTML\n",
    "\n",
    "from pathlib import Path\n",
    "import csv\n",
    "\n",
    "from datetime import datetime\n",
    "from datetime import date\n",
    "import calendar\n",
    "\n",
    "import os\n",
    "from os import listdir\n",
    "from os.path import isfile, join\n",
    "\n",
    "import sys, getopt\n",
    "\n",
    "# Imports\n",
    "#from pandas_datareader import data as pdr\n",
    "#from yahoo_fin import stock_info as si\n",
    "\n",
    "import numpy as np\n",
    "import numpy as np\n",
    "from sklearn import linear_model\n",
    "import scipy.stats\n",
    "\n",
    "\n",
    "import numpy as np\n",
    "from sklearn import linear_model\n",
    "\n",
    "import pandas as pd\n",
    "\n",
    "import plotly.io as pio\n",
    "import plotly.express as px\n",
    "from plotly.figure_factory import create_candlestick\n",
    "import plotly.graph_objects as go\n",
    "from plotly.offline import init_notebook_mode, iplot\n",
    "\n",
    "from pandas import ExcelWriter\n",
    "\n",
    "from sympy import maximum\n",
    "\n",
    "import RSI_strat_SETUP\n",
    "\n",
    "#init_notebook_mode()"
   ]
  },
  {
   "cell_type": "code",
   "execution_count": 4,
   "metadata": {},
   "outputs": [],
   "source": [
    "def main(fad, stock):\n",
    "\n",
    "\n",
    "    #onlyfiles = [f for f in listdir(mypath) if (isfile(join(mypath, f)) and not f.startswith(\"_\")) ]\n",
    "\n",
    "    b=[]\n",
    "    c=[]\n",
    "    figs=[]\n",
    "    counter  = 0\n",
    "\n",
    "    keys = [\"Sector\",\"Industry\"]\n",
    "    a=[]    \n",
    "    b=[]\n",
    "    \n",
    "    for key in keys:\n",
    "        'Baue Dataframe aus der exisitierendnen Res Datei. Relevnt sind die Sektoren und die 5d,10,20d,... returns'\n",
    "        df = pd.read_csv(fad + stock,sep=\";\",decimal=',', index_col=0)\n",
    "        csa = [key]\n",
    "        csa = csa +  df.columns[:5].tolist()\n",
    "        sector_analysis = pd.DataFrame(columns=csa)\n",
    "\n",
    "        list_of_sectors = df[key].unique().tolist()\n",
    "        sector_analysis[key]=df[key].unique().tolist()\n",
    "\n",
    "        # Wenn nach Industry aufgelöst wird, dann fuerg den Sektor in den TAble dazu \n",
    "        if key == \"Industry\":\n",
    "            print(sector_analysis[\"Industry\"])\n",
    "            for i in sector_analysis[\"Industry\"]:\n",
    "                a=df[\"Sector\"][df[\"Industry\"]==i]\n",
    "                b.append(a[0])    \n",
    "            print(b)    \n",
    "            sector_analysis[\"Sector\"]=b\n",
    "        ################################\n",
    "\n",
    "        for dt in df.columns[:5].tolist():\n",
    "            yields=[]\n",
    "            for sec in sector_analysis[key]:\n",
    "                yields.append(df.loc[df[key]==sec, dt].mean())\n",
    "            #print(yields)\n",
    "            sector_analysis[dt]=yields\n",
    "\n",
    "        sector_analysis=sector_analysis.sort_values(by=\"10d\",ascending=False)\n",
    "        sector_analysis.style.background_gradient()        \n",
    "\n",
    "        f = open(fad+key+\"_s.html\",'w'); f.write(sector_analysis.style.set_precision(2).set_caption('Spaltenweise Color').background_gradient(axis=0,cmap=\"Spectral\").render()); f.close()\n",
    "        f = open(fad+key+\"_z.html\",'w'); f.write(sector_analysis.style.set_precision(2).set_caption('Zeilenweise Color').background_gradient(axis=1,cmap=\"Spectral\").render()); f.close()    \n",
    "        \n",
    "    "
   ]
  },
  {
   "cell_type": "markdown",
   "metadata": {},
   "source": [
    "### Gebe Pfad an, unter dem das Datenfile zu finden ist.  \n",
    "#### Bsp: C:/Users/Schroeder/OneDrive/Trading/ETFS/RES_Aristokraten/Res/"
   ]
  },
  {
   "cell_type": "code",
   "execution_count": 19,
   "metadata": {},
   "outputs": [],
   "source": [
    "currentdir = os.path.abspath('')\n",
    "parentdir = os.path.realpath(os.path.join(currentdir, '..'))\n",
    "sys.path.insert(0, parentdir) \n",
    "#############################################################\n",
    "\n",
    "from MomentumScreening import my_setup\n",
    "###\n",
    "### The whole /ETFS/ Tree has to be located on ame level as repository !\n",
    "pfad = os.path.realpath(os.path.join(parentdir, 'ETFS'))\n"
   ]
  },
  {
   "cell_type": "markdown",
   "metadata": {},
   "source": [
    "### --------------------------------------------------------------------------\n",
    "### Welcher Sektor oder index soll analysieert werden ?"
   ]
  },
  {
   "cell_type": "code",
   "execution_count": 20,
   "metadata": {},
   "outputs": [],
   "source": [
    "who = \"SP500\"\n",
    "\n",
    "\n",
    "who = \"RES_\" + who \n",
    "pfad = os.path.realpath(os.path.join(pfad, who))\n",
    "pfad = os.path.realpath(os.path.join(pfad, 'Res'))\n",
    "\n",
    "file  = \"SP502022-07-29__2022-04-06\" + \".csv\""
   ]
  },
  {
   "cell_type": "markdown",
   "metadata": {},
   "source": [
    "### ---------------------------------------------------------------------"
   ]
  },
  {
   "cell_type": "code",
   "execution_count": 21,
   "metadata": {},
   "outputs": [
    {
     "name": "stdout",
     "output_type": "stream",
     "text": [
      "C:\\Users\\Michael\\Trading\\ETFS\\RES_SP500\\Res\n",
      "C:\\Users\\Michael\\Trading\\ETFS\\RES_SP500\\Res\\SP502022-07-29__2022-04-06.csv\n"
     ]
    }
   ],
   "source": [
    "\n",
    "print(pfad)\n",
    "print(pfad + \"\\\\\" + file)"
   ]
  },
  {
   "cell_type": "markdown",
   "metadata": {},
   "source": [
    " "
   ]
  },
  {
   "cell_type": "code",
   "execution_count": 8,
   "metadata": {
    "scrolled": false
   },
   "outputs": [
    {
     "name": "stdout",
     "output_type": "stream",
     "text": [
      "0                           Personal Services\n",
      "1                     Beverages—Non-Alcoholic\n",
      "2      Drug Manufacturers—Specialty & Generic\n",
      "3                              Packaged Foods\n",
      "4                  Drug Manufacturers—General\n",
      "                        ...                  \n",
      "111                                       ETF\n",
      "112                            Grocery Stores\n",
      "113                                     Steel\n",
      "114                                    Copper\n",
      "115                                      Gold\n",
      "Name: Industry, Length: 116, dtype: object\n",
      "['Consumer Cyclical', 'Consumer Defensive', 'Healthcare', 'Consumer Defensive', 'Healthcare', 'Healthcare', 'Industrials', 'Healthcare', 'Technology', 'Real Estate', 'Consumer Cyclical', 'Financial Services', 'Consumer Defensive', 'Real Estate', 'Technology', 'Industrials', 'Healthcare', 'Consumer Defensive', 'Communication Services', 'Consumer Cyclical', 'Healthcare', 'Consumer Defensive', 'Consumer Cyclical', 'Utilities', 'Consumer Defensive', 'Consumer Cyclical', 'Technology', 'Real Estate', 'Industrials', 'Consumer Cyclical', 'Healthcare', 'Technology', 'Financial Services', 'Technology', 'Consumer Cyclical', 'Consumer Cyclical', 'Financial Services', 'Real Estate', 'Consumer Cyclical', 'Financial Services', 'Consumer Defensive', 'Communication Services', 'Industrials', 'Industrials', 'Industrials', 'Technology', 'Industrials', 'Consumer Cyclical', 'Financial Services', 'Technology', 'Industrials', 'Consumer Cyclical', 'Industrials', 'Financial Services', 'Financial Services', 'Financial Services', 'Industrials', 'Industrials', 'Basic Materials', 'Technology', 'Financial Services', 'Consumer Defensive', 'Consumer Cyclical', 'Healthcare', 'Energy', 'Industrials', 'Industrials', 'Utilities', 'Energy', 'Industrials', 'Utilities', 'Communication Services', 'Real Estate', 'Utilities', 'Energy', 'Technology', 'Industrials', 'Technology', 'Financial Services', 'Communication Services', 'Consumer Defensive', 'Utilities', 'Consumer Cyclical', 'Communication Services', 'Consumer Cyclical', 'Industrials', 'Energy', 'Consumer Cyclical', 'Industrials', 'Consumer Cyclical', 'Basic Materials', 'Basic Materials', 'Consumer Cyclical', 'Energy', 'Consumer Cyclical', 'Real Estate', 'Financial Services', 'Consumer Cyclical', 'Industrials', 'Real Estate', 'Industrials', 'Financial Services', 'Consumer Defensive', 'Healthcare', 'Basic Materials', 'Energy', 'Real Estate', 'Consumer Cyclical', 'Communication Services', 'Consumer Cyclical', 'Healthcare', 'sector', 'Consumer Defensive', 'Basic Materials', 'Basic Materials', 'Basic Materials']\n"
     ]
    }
   ],
   "source": [
    "#main(stock,          back_gap, fwd_gap, threshold rendite backward, threshold renidte forward,comment )\n",
    "\n",
    "main(pfad, file)"
   ]
  },
  {
   "cell_type": "code",
   "execution_count": null,
   "metadata": {},
   "outputs": [],
   "source": []
  }
 ],
 "metadata": {
  "kernelspec": {
   "display_name": "Python 3.8.8 ('base')",
   "language": "python",
   "name": "python3"
  },
  "language_info": {
   "codemirror_mode": {
    "name": "ipython",
    "version": 3
   },
   "file_extension": ".py",
   "mimetype": "text/x-python",
   "name": "python",
   "nbconvert_exporter": "python",
   "pygments_lexer": "ipython3",
   "version": "3.8.8"
  },
  "vscode": {
   "interpreter": {
    "hash": "ad2bdc8ecc057115af97d19610ffacc2b4e99fae6737bb82f5d7fb13d2f2c186"
   }
  }
 },
 "nbformat": 4,
 "nbformat_minor": 2
}
