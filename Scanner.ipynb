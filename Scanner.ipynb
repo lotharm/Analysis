{
 "cells": [
  {
   "cell_type": "markdown",
   "id": "b7c625e6",
   "metadata": {},
   "source": [
    "### \"\"\"\n",
    "Created on Fri Feb 19 08:46:16 2021\n",
    "\n",
    "@author: Schroeder\n",
    "\"\"\"\n",
    "\n",
    "# Liest holc etc. daten von bereits auf platte befindlichen csv dataframes .\n",
    "# Soll Plot und Auswertung von datagrabbing trennen.\n"
   ]
  },
  {
   "cell_type": "code",
   "execution_count": 1,
   "id": "f45ab25f",
   "metadata": {},
   "outputs": [],
   "source": [
    "\n",
    "import plotly.io as pio\n",
    "import plotly.express as px\n",
    "from plotly.figure_factory import create_candlestick\n",
    "import plotly.graph_objects as go\n",
    "from plotly.offline import init_notebook_mode, iplot\n",
    "from IPython.display import display\n",
    "\n",
    "#import TickerSelector, regression\n",
    "from datetime import datetime\n",
    "from datetime import date\n",
    "import calendar\n",
    "\n",
    "# Imports\n",
    "from pandas_datareader import data as pdr\n",
    "#from yahoo_fin import stock_info as si\n",
    "\n",
    "import numpy as np\n",
    "import scipy.stats as stats\n",
    "\n",
    "\n",
    "from pandas import ExcelWriter\n",
    "import yfinance as yf\n",
    "import pandas as pd\n",
    "import datetime\n",
    "import time\n",
    "import csv\n",
    "   \n",
    "#import StockscreenerPlotter_stats\n",
    "#import StockscreenerWinners_stats\n",
    "#import downloader\n",
    "\n",
    "import sys\n",
    "import os.path\n",
    "from os.path import isfile, join\n",
    "\n",
    "from os import listdir\n",
    "#from os.path import isfile, join\n",
    "\n",
    "#currentdir = os.path.join(os.path.dirname(__file__))\n",
    "\n",
    "###### Insert the following three lines to make any import lib in he project dir setup visible to an other\n",
    "###### Directory in the project setup\n",
    "\n",
    "currentdir = os.path.abspath('')\n",
    "parentdir = os.path.realpath(os.path.join(currentdir, '..'))\n",
    "sys.path.insert(0, parentdir) \n",
    "#############################################################\n",
    "\n",
    "from lib import Indikatoren\n",
    "\n",
    "#lieferrt bei gegebenem datatfram mit datum als index das erste Datum, das letzte, und zwei \n",
    "# dazwischen\n",
    "\n",
    "\n",
    "    "
   ]
  },
  {
   "cell_type": "markdown",
   "id": "4f77e0de",
   "metadata": {},
   "source": [
    "## SCANNER sucht in Data Universum (etwa SP500 oder Aristokraten) nach Stocks, die ein bestimmtes Signal aufweisen. Also etwa \n",
    "## weekly MACD positiv und RSI > 75% etc."
   ]
  },
  {
   "cell_type": "markdown",
   "id": "fe57d4d2",
   "metadata": {},
   "source": [
    "## Gebe Pfad an, unter dem das Datenfile zu finden ist.\n",
    "## Bsp: C:/Users/Schroeder/OneDrive/Trading/ETFS/RES_Aristokraten/Res/\n"
   ]
  },
  {
   "cell_type": "markdown",
   "id": "836a1144",
   "metadata": {},
   "source": [
    "# --------------------------------------------------------------------------\n",
    "## Welcher Sektor oder index soll analysieert werden ?"
   ]
  },
  {
   "cell_type": "code",
   "execution_count": 1,
   "id": "bf3d0420",
   "metadata": {},
   "outputs": [
    {
     "ename": "NameError",
     "evalue": "name 'parentdir' is not defined",
     "output_type": "error",
     "traceback": [
      "\u001b[1;31m---------------------------------------------------------------------------\u001b[0m",
      "\u001b[1;31mNameError\u001b[0m                                 Traceback (most recent call last)",
      "\u001b[1;32m~\\AppData\\Local\\Temp\\1/ipykernel_8768/4073837861.py\u001b[0m in \u001b[0;36m<module>\u001b[1;34m\u001b[0m\n\u001b[1;32m----> 1\u001b[1;33m \u001b[0mpfad\u001b[0m \u001b[1;33m=\u001b[0m \u001b[0mos\u001b[0m\u001b[1;33m.\u001b[0m\u001b[0mpath\u001b[0m\u001b[1;33m.\u001b[0m\u001b[0mrealpath\u001b[0m\u001b[1;33m(\u001b[0m\u001b[0mos\u001b[0m\u001b[1;33m.\u001b[0m\u001b[0mpath\u001b[0m\u001b[1;33m.\u001b[0m\u001b[0mjoin\u001b[0m\u001b[1;33m(\u001b[0m\u001b[0mparentdir\u001b[0m\u001b[1;33m,\u001b[0m \u001b[1;34m'ETFS'\u001b[0m\u001b[1;33m)\u001b[0m\u001b[1;33m)\u001b[0m\u001b[1;33m\u001b[0m\u001b[1;33m\u001b[0m\u001b[0m\n\u001b[0m\u001b[0;32m      2\u001b[0m \u001b[1;33m\u001b[0m\u001b[0m\n\u001b[0;32m      3\u001b[0m \u001b[1;31m#############################################################\u001b[0m\u001b[1;33m\u001b[0m\u001b[1;33m\u001b[0m\u001b[1;33m\u001b[0m\u001b[0m\n\u001b[0;32m      4\u001b[0m \u001b[0mwho\u001b[0m \u001b[1;33m=\u001b[0m \u001b[1;34m\"RES_\"\u001b[0m\u001b[1;33m+\u001b[0m\u001b[1;34m\"SP500\"\u001b[0m\u001b[1;33m\u001b[0m\u001b[1;33m\u001b[0m\u001b[0m\n\u001b[0;32m      5\u001b[0m \u001b[0mpfad\u001b[0m \u001b[1;33m=\u001b[0m \u001b[0mos\u001b[0m\u001b[1;33m.\u001b[0m\u001b[0mpath\u001b[0m\u001b[1;33m.\u001b[0m\u001b[0mrealpath\u001b[0m\u001b[1;33m(\u001b[0m\u001b[0mos\u001b[0m\u001b[1;33m.\u001b[0m\u001b[0mpath\u001b[0m\u001b[1;33m.\u001b[0m\u001b[0mjoin\u001b[0m\u001b[1;33m(\u001b[0m\u001b[0mpfad\u001b[0m\u001b[1;33m,\u001b[0m \u001b[0mwho\u001b[0m\u001b[1;33m)\u001b[0m\u001b[1;33m)\u001b[0m\u001b[1;33m\u001b[0m\u001b[1;33m\u001b[0m\u001b[0m\n",
      "\u001b[1;31mNameError\u001b[0m: name 'parentdir' is not defined"
     ]
    }
   ],
   "source": [
    "pfad = os.path.realpath(os.path.join(parentdir, 'ETFS'))\n",
    "\n",
    "#############################################################\n",
    "who = \"RES_\"+\"SP500\"\n",
    "pfad = os.path.realpath(os.path.join(pfad, who))\n",
    "###############################################################\n",
    "pfad = os.path.realpath(os.path.join(pfad, 'Data'))\n",
    "\n",
    "\n",
    "file  = \"_ticker_names.csv\"\n",
    "\n",
    "singleticker_file=os.path.realpath(os.path.join(pfad, file))\n",
    "\n"
   ]
  },
  {
   "cell_type": "code",
   "execution_count": 3,
   "id": "6b2a6a4f",
   "metadata": {},
   "outputs": [],
   "source": [
    "exportList = pd.DataFrame(columns=['ticker',\"z-score\",\"Volume\",\"MACDsignal\",\"RSIlevel\",\"Name\",\"Industry\",\"Sector\",\"marketCap\"])"
   ]
  },
  {
   "cell_type": "markdown",
   "metadata": {},
   "source": []
  },
  {
   "cell_type": "markdown",
   "id": "7f5766ea",
   "metadata": {},
   "source": [
    "## ---------------------------------------------------------------------"
   ]
  },
  {
   "cell_type": "code",
   "execution_count": 4,
   "id": "20cb16b1",
   "metadata": {},
   "outputs": [],
   "source": [
    "# DAs ist der Ticker fiel, der alle Ticker enthaelt, die gelsen werden:\n",
    "# Read Tickerfile names, so all tickers in the desired directory\n",
    "tkr = pd.read_csv(singleticker_file,sep=\";\",decimal=',',parse_dates=True,index_col=0)\n",
    "        #df = yf.download(ticker, start=start_date.strftime(\"%Y-%m-%d\"), end=end_date.strftime(\"%Y-%m-%d\"))\n",
    "    \n",
    "for i in tkr[\"ticker\"]:\n",
    "    mydict={}\n",
    "    file=pfad+ \"/\"  + i + \".csv\"\n",
    "    df = pd.read_csv(file,sep=\";\",decimal=',',parse_dates=True,index_col=0)\n",
    "    #print(file)\n",
    "    df[\"dummy\"]= df[\"Factor\"]-df[\"EMA100\"]\n",
    "    df[\"dummy\"]=df[\"dummy\"].fillna(0)\n",
    "    Indikatoren.Zscore_rolling(df,\"dummy\",100)\n",
    "    #df[\"Zscore\"]=stats.zscore(df[\"dummy\"])\n",
    "    #Prüfe auf z-score\n",
    "    #########################################################################\n",
    "    if (df[\"z-score\"][-1] < -2.5) or (df[\"z-score\"][-1] >2.5):\n",
    "    ########################################################################\n",
    "        mydict[\"ticker\"]=i\n",
    "        mydict[\"Name\"]=tkr[\"name\"][tkr[\"ticker\"]==i]\n",
    "        mydict[\"Sector\"]=tkr[\"sector\"][tkr[\"ticker\"]==i]\n",
    "        mydict[\"Industry\"]=tkr[\"industry\"][tkr[\"ticker\"]==i]\n",
    "        mydict[\"z-score\"]=df[\"z-score\"][-1]\n",
    "        mydict[\"Name\"]=tkr[\"name\"][tkr[\"ticker\"]==i]\n",
    "        \n",
    "        \n",
    "    if((df[\"MACDdif_week\"][-1] > 0) and \\\n",
    "        ((df[\"MACD_week\"][-1] > 0) and (df[\"MACDsign_week\"][-1] < 0))):\n",
    "            mydict[\"ticker\"]=i\n",
    "            mydict[\"Name\"]=tkr[\"name\"][tkr[\"ticker\"]==i]\n",
    "            mydict[\"Volume\"]=df[\"Volume\"][-1]\n",
    "            mydict[\"Sector\"]=tkr[\"sector\"][tkr[\"ticker\"]==i]\n",
    "            mydict[\"Industry\"]=tkr[\"industry\"][tkr[\"ticker\"]==i]\n",
    "            mydict[\"MACDsignal\"]=\"Long\"\n",
    "            \n",
    "    if((df[\"MACDdif_week\"][-1] < 0) and \\\n",
    "        ((df[\"MACD_week\"][-1] < 0) and (df[\"MACDsign_week\"][-1] > 0))):\n",
    "            mydict[\"ticker\"]=i\n",
    "            mydict[\"Name\"]=tkr[\"name\"][tkr[\"ticker\"]==i]\n",
    "            mydict[\"Volume\"]=df[\"Volume\"][-1]\n",
    "            mydict[\"Sector\"]=tkr[\"sector\"][tkr[\"ticker\"]==i]\n",
    "            mydict[\"Industry\"]=tkr[\"industry\"][tkr[\"ticker\"]==i]\n",
    "            mydict[\"MACDsignal\"]=\"Short\"        \n",
    "    \n",
    "    \n",
    "    # if i == \"HRB\":\n",
    "    #     fig = px.line(df, x=df.index, y=[df[\"MACD_week\"],df[\"MACDsign_week\"]])\n",
    "    #     fig.show()  \n",
    "\n",
    "    if len(mydict)>0:\n",
    "        exportList =exportList.append(mydict,ignore_index=True)  \n",
    "\n",
    " "
   ]
  },
  {
   "cell_type": "code",
   "execution_count": 8,
   "id": "e630d266",
   "metadata": {
    "collapsed": true
   },
   "outputs": [
    {
     "ename": "TypeError",
     "evalue": "'<' not supported between instances of 'float' and 'str'",
     "output_type": "error",
     "traceback": [
      "\u001b[1;31m---------------------------------------------------------------------------\u001b[0m",
      "\u001b[1;31mTypeError\u001b[0m                                 Traceback (most recent call last)",
      "\u001b[1;32m<ipython-input-8-fe296bae4f50>\u001b[0m in \u001b[0;36m<module>\u001b[1;34m\u001b[0m\n\u001b[1;32m----> 1\u001b[1;33m \u001b[0mexportList\u001b[0m \u001b[1;33m=\u001b[0m \u001b[0mexportList\u001b[0m\u001b[1;33m.\u001b[0m\u001b[0msort_values\u001b[0m\u001b[1;33m(\u001b[0m\u001b[0mby\u001b[0m\u001b[1;33m=\u001b[0m\u001b[1;34m\"z-score\"\u001b[0m\u001b[1;33m,\u001b[0m\u001b[0mascending\u001b[0m\u001b[1;33m=\u001b[0m\u001b[1;32mFalse\u001b[0m\u001b[1;33m)\u001b[0m\u001b[1;33m\u001b[0m\u001b[1;33m\u001b[0m\u001b[0m\n\u001b[0m\u001b[0;32m      2\u001b[0m \u001b[0mexportList\u001b[0m\u001b[1;33m=\u001b[0m\u001b[0mexportList\u001b[0m\u001b[1;33m.\u001b[0m\u001b[0mfillna\u001b[0m\u001b[1;33m(\u001b[0m\u001b[1;34m\"-\"\u001b[0m\u001b[1;33m)\u001b[0m\u001b[1;33m\u001b[0m\u001b[1;33m\u001b[0m\u001b[0m\n\u001b[0;32m      3\u001b[0m \u001b[0mpd\u001b[0m\u001b[1;33m.\u001b[0m\u001b[0mset_option\u001b[0m\u001b[1;33m(\u001b[0m\u001b[1;34m\"display.max_rows\"\u001b[0m\u001b[1;33m,\u001b[0m\u001b[1;32mNone\u001b[0m\u001b[1;33m)\u001b[0m\u001b[1;33m\u001b[0m\u001b[1;33m\u001b[0m\u001b[0m\n\u001b[0;32m      4\u001b[0m \u001b[1;31m#print(exportList)\u001b[0m\u001b[1;33m\u001b[0m\u001b[1;33m\u001b[0m\u001b[1;33m\u001b[0m\u001b[0m\n\u001b[0;32m      5\u001b[0m \u001b[0mdisplay\u001b[0m\u001b[1;33m(\u001b[0m\u001b[0mexportList\u001b[0m\u001b[1;33m.\u001b[0m\u001b[0mhead\u001b[0m\u001b[1;33m(\u001b[0m\u001b[1;33m)\u001b[0m\u001b[1;33m.\u001b[0m\u001b[0mstyle\u001b[0m\u001b[1;33m.\u001b[0m\u001b[0mformat\u001b[0m\u001b[1;33m(\u001b[0m\u001b[1;34m\"{:.4f}\"\u001b[0m\u001b[1;33m)\u001b[0m\u001b[1;33m)\u001b[0m\u001b[1;33m\u001b[0m\u001b[1;33m\u001b[0m\u001b[0m\n",
      "\u001b[1;32m~\\anaconda3\\envs\\DataGrabber\\lib\\site-packages\\pandas\\core\\frame.py\u001b[0m in \u001b[0;36msort_values\u001b[1;34m(self, by, axis, ascending, inplace, kind, na_position, ignore_index, key)\u001b[0m\n\u001b[0;32m   5462\u001b[0m                 \u001b[0mascending\u001b[0m \u001b[1;33m=\u001b[0m \u001b[0mascending\u001b[0m\u001b[1;33m[\u001b[0m\u001b[1;36m0\u001b[0m\u001b[1;33m]\u001b[0m\u001b[1;33m\u001b[0m\u001b[1;33m\u001b[0m\u001b[0m\n\u001b[0;32m   5463\u001b[0m \u001b[1;33m\u001b[0m\u001b[0m\n\u001b[1;32m-> 5464\u001b[1;33m             indexer = nargsort(\n\u001b[0m\u001b[0;32m   5465\u001b[0m                 \u001b[0mk\u001b[0m\u001b[1;33m,\u001b[0m \u001b[0mkind\u001b[0m\u001b[1;33m=\u001b[0m\u001b[0mkind\u001b[0m\u001b[1;33m,\u001b[0m \u001b[0mascending\u001b[0m\u001b[1;33m=\u001b[0m\u001b[0mascending\u001b[0m\u001b[1;33m,\u001b[0m \u001b[0mna_position\u001b[0m\u001b[1;33m=\u001b[0m\u001b[0mna_position\u001b[0m\u001b[1;33m,\u001b[0m \u001b[0mkey\u001b[0m\u001b[1;33m=\u001b[0m\u001b[0mkey\u001b[0m\u001b[1;33m\u001b[0m\u001b[1;33m\u001b[0m\u001b[0m\n\u001b[0;32m   5466\u001b[0m             )\n",
      "\u001b[1;32m~\\anaconda3\\envs\\DataGrabber\\lib\\site-packages\\pandas\\core\\sorting.py\u001b[0m in \u001b[0;36mnargsort\u001b[1;34m(items, kind, ascending, na_position, key, mask)\u001b[0m\n\u001b[0;32m    378\u001b[0m         \u001b[0mnon_nans\u001b[0m \u001b[1;33m=\u001b[0m \u001b[0mnon_nans\u001b[0m\u001b[1;33m[\u001b[0m\u001b[1;33m:\u001b[0m\u001b[1;33m:\u001b[0m\u001b[1;33m-\u001b[0m\u001b[1;36m1\u001b[0m\u001b[1;33m]\u001b[0m\u001b[1;33m\u001b[0m\u001b[1;33m\u001b[0m\u001b[0m\n\u001b[0;32m    379\u001b[0m         \u001b[0mnon_nan_idx\u001b[0m \u001b[1;33m=\u001b[0m \u001b[0mnon_nan_idx\u001b[0m\u001b[1;33m[\u001b[0m\u001b[1;33m:\u001b[0m\u001b[1;33m:\u001b[0m\u001b[1;33m-\u001b[0m\u001b[1;36m1\u001b[0m\u001b[1;33m]\u001b[0m\u001b[1;33m\u001b[0m\u001b[1;33m\u001b[0m\u001b[0m\n\u001b[1;32m--> 380\u001b[1;33m     \u001b[0mindexer\u001b[0m \u001b[1;33m=\u001b[0m \u001b[0mnon_nan_idx\u001b[0m\u001b[1;33m[\u001b[0m\u001b[0mnon_nans\u001b[0m\u001b[1;33m.\u001b[0m\u001b[0margsort\u001b[0m\u001b[1;33m(\u001b[0m\u001b[0mkind\u001b[0m\u001b[1;33m=\u001b[0m\u001b[0mkind\u001b[0m\u001b[1;33m)\u001b[0m\u001b[1;33m]\u001b[0m\u001b[1;33m\u001b[0m\u001b[1;33m\u001b[0m\u001b[0m\n\u001b[0m\u001b[0;32m    381\u001b[0m     \u001b[1;32mif\u001b[0m \u001b[1;32mnot\u001b[0m \u001b[0mascending\u001b[0m\u001b[1;33m:\u001b[0m\u001b[1;33m\u001b[0m\u001b[1;33m\u001b[0m\u001b[0m\n\u001b[0;32m    382\u001b[0m         \u001b[0mindexer\u001b[0m \u001b[1;33m=\u001b[0m \u001b[0mindexer\u001b[0m\u001b[1;33m[\u001b[0m\u001b[1;33m:\u001b[0m\u001b[1;33m:\u001b[0m\u001b[1;33m-\u001b[0m\u001b[1;36m1\u001b[0m\u001b[1;33m]\u001b[0m\u001b[1;33m\u001b[0m\u001b[1;33m\u001b[0m\u001b[0m\n",
      "\u001b[1;31mTypeError\u001b[0m: '<' not supported between instances of 'float' and 'str'"
     ]
    }
   ],
   "source": [
    "exportList = exportList.sort_values(by=\"z-score\",ascending=False)\n",
    "exportList=exportList.fillna(\"-\")\n",
    "pd.set_option(\"display.max_rows\",None)\n",
    "#print(exportList)\n",
    "display(exportList.head().style.format(\"{:.4f}\"))\n",
    "#display(exportList.head().style.format(\"{:.4}\").background_gradient(cmap='YlGn'))\n"
   ]
  },
  {
   "cell_type": "code",
   "execution_count": null,
   "id": "beac01e0",
   "metadata": {},
   "outputs": [],
   "source": []
  },
  {
   "cell_type": "code",
   "execution_count": null,
   "id": "c39365b1",
   "metadata": {},
   "outputs": [],
   "source": []
  }
 ],
 "metadata": {
  "interpreter": {
   "hash": "1eeed662d4e0aec0daec9fbef0f4bebea6e5a88731d55a40c66e53b57018d805"
  },
  "kernelspec": {
   "display_name": "Python 3.8.10 32-bit ('DataGrabber': conda)",
   "name": "python3"
  },
  "language_info": {
   "codemirror_mode": {
    "name": "ipython",
    "version": 3
   },
   "file_extension": ".py",
   "mimetype": "text/x-python",
   "name": "python",
   "nbconvert_exporter": "python",
   "pygments_lexer": "ipython3",
   "version": "3.8.10"
  },
  "vscode": {
   "interpreter": {
    "hash": "072032cb4621292dbbe9c47ec612706b3a5fe1c2f3cd085779a3573cd04acabb"
   }
  }
 },
 "nbformat": 4,
 "nbformat_minor": 5
}
